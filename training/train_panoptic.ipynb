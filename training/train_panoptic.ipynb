{
  "nbformat": 4,
  "nbformat_minor": 0,
  "metadata": {
    "colab": {
      "name": "train_panoptic.ipynb",
      "provenance": [],
      "collapsed_sections": [],
      "include_colab_link": true
    },
    "kernelspec": {
      "name": "python3",
      "display_name": "Python 3"
    },
    "language_info": {
      "name": "python"
    },
    "accelerator": "GPU",
    "widgets": {
      "application/vnd.jupyter.widget-state+json": {
        "93ce2b0d0103423ba91d1b4f96d53d3c": {
          "model_module": "@jupyter-widgets/controls",
          "model_name": "HBoxModel",
          "model_module_version": "1.5.0",
          "state": {
            "_view_name": "HBoxView",
            "_dom_classes": [],
            "_model_name": "HBoxModel",
            "_view_module": "@jupyter-widgets/controls",
            "_model_module_version": "1.5.0",
            "_view_count": null,
            "_view_module_version": "1.5.0",
            "box_style": "",
            "layout": "IPY_MODEL_8b58ed36336f4307b3da86dcc4aa0af0",
            "_model_module": "@jupyter-widgets/controls",
            "children": [
              "IPY_MODEL_095f62e84d7246b78c0103a8b24cbdb2",
              "IPY_MODEL_a0c07e01cb5e40b89729c3aad996527a",
              "IPY_MODEL_259f181a4d2544d1ba7f27dfbd35f04f"
            ]
          }
        },
        "8b58ed36336f4307b3da86dcc4aa0af0": {
          "model_module": "@jupyter-widgets/base",
          "model_name": "LayoutModel",
          "model_module_version": "1.2.0",
          "state": {
            "_view_name": "LayoutView",
            "grid_template_rows": null,
            "right": null,
            "justify_content": null,
            "_view_module": "@jupyter-widgets/base",
            "overflow": null,
            "_model_module_version": "1.2.0",
            "_view_count": null,
            "flex_flow": null,
            "width": null,
            "min_width": null,
            "border": null,
            "align_items": null,
            "bottom": null,
            "_model_module": "@jupyter-widgets/base",
            "top": null,
            "grid_column": null,
            "overflow_y": null,
            "overflow_x": null,
            "grid_auto_flow": null,
            "grid_area": null,
            "grid_template_columns": null,
            "flex": null,
            "_model_name": "LayoutModel",
            "justify_items": null,
            "grid_row": null,
            "max_height": null,
            "align_content": null,
            "visibility": null,
            "align_self": null,
            "height": null,
            "min_height": null,
            "padding": null,
            "grid_auto_rows": null,
            "grid_gap": null,
            "max_width": null,
            "order": null,
            "_view_module_version": "1.2.0",
            "grid_template_areas": null,
            "object_position": null,
            "object_fit": null,
            "grid_auto_columns": null,
            "margin": null,
            "display": null,
            "left": null
          }
        },
        "095f62e84d7246b78c0103a8b24cbdb2": {
          "model_module": "@jupyter-widgets/controls",
          "model_name": "HTMLModel",
          "model_module_version": "1.5.0",
          "state": {
            "_view_name": "HTMLView",
            "style": "IPY_MODEL_862b7049636948d88502be708122e774",
            "_dom_classes": [],
            "description": "",
            "_model_name": "HTMLModel",
            "placeholder": "​",
            "_view_module": "@jupyter-widgets/controls",
            "_model_module_version": "1.5.0",
            "value": "100%",
            "_view_count": null,
            "_view_module_version": "1.5.0",
            "description_tooltip": null,
            "_model_module": "@jupyter-widgets/controls",
            "layout": "IPY_MODEL_87e93926c98a44e095121012f645c988"
          }
        },
        "a0c07e01cb5e40b89729c3aad996527a": {
          "model_module": "@jupyter-widgets/controls",
          "model_name": "FloatProgressModel",
          "model_module_version": "1.5.0",
          "state": {
            "_view_name": "ProgressView",
            "style": "IPY_MODEL_7fb7a4e09930465e8294f015cb3ff0fa",
            "_dom_classes": [],
            "description": "",
            "_model_name": "FloatProgressModel",
            "bar_style": "success",
            "max": 178090079,
            "_view_module": "@jupyter-widgets/controls",
            "_model_module_version": "1.5.0",
            "value": 178090079,
            "_view_count": null,
            "_view_module_version": "1.5.0",
            "orientation": "horizontal",
            "min": 0,
            "description_tooltip": null,
            "_model_module": "@jupyter-widgets/controls",
            "layout": "IPY_MODEL_8066cca1130a49c99f0127d17620c883"
          }
        },
        "259f181a4d2544d1ba7f27dfbd35f04f": {
          "model_module": "@jupyter-widgets/controls",
          "model_name": "HTMLModel",
          "model_module_version": "1.5.0",
          "state": {
            "_view_name": "HTMLView",
            "style": "IPY_MODEL_f15928f43cab43aa98a040972da52cf1",
            "_dom_classes": [],
            "description": "",
            "_model_name": "HTMLModel",
            "placeholder": "​",
            "_view_module": "@jupyter-widgets/controls",
            "_model_module_version": "1.5.0",
            "value": " 170M/170M [00:02&lt;00:00, 87.6MB/s]",
            "_view_count": null,
            "_view_module_version": "1.5.0",
            "description_tooltip": null,
            "_model_module": "@jupyter-widgets/controls",
            "layout": "IPY_MODEL_6e444a9c03364fe9b8f466b4578f4460"
          }
        },
        "862b7049636948d88502be708122e774": {
          "model_module": "@jupyter-widgets/controls",
          "model_name": "DescriptionStyleModel",
          "model_module_version": "1.5.0",
          "state": {
            "_view_name": "StyleView",
            "_model_name": "DescriptionStyleModel",
            "description_width": "",
            "_view_module": "@jupyter-widgets/base",
            "_model_module_version": "1.5.0",
            "_view_count": null,
            "_view_module_version": "1.2.0",
            "_model_module": "@jupyter-widgets/controls"
          }
        },
        "87e93926c98a44e095121012f645c988": {
          "model_module": "@jupyter-widgets/base",
          "model_name": "LayoutModel",
          "model_module_version": "1.2.0",
          "state": {
            "_view_name": "LayoutView",
            "grid_template_rows": null,
            "right": null,
            "justify_content": null,
            "_view_module": "@jupyter-widgets/base",
            "overflow": null,
            "_model_module_version": "1.2.0",
            "_view_count": null,
            "flex_flow": null,
            "width": null,
            "min_width": null,
            "border": null,
            "align_items": null,
            "bottom": null,
            "_model_module": "@jupyter-widgets/base",
            "top": null,
            "grid_column": null,
            "overflow_y": null,
            "overflow_x": null,
            "grid_auto_flow": null,
            "grid_area": null,
            "grid_template_columns": null,
            "flex": null,
            "_model_name": "LayoutModel",
            "justify_items": null,
            "grid_row": null,
            "max_height": null,
            "align_content": null,
            "visibility": null,
            "align_self": null,
            "height": null,
            "min_height": null,
            "padding": null,
            "grid_auto_rows": null,
            "grid_gap": null,
            "max_width": null,
            "order": null,
            "_view_module_version": "1.2.0",
            "grid_template_areas": null,
            "object_position": null,
            "object_fit": null,
            "grid_auto_columns": null,
            "margin": null,
            "display": null,
            "left": null
          }
        },
        "7fb7a4e09930465e8294f015cb3ff0fa": {
          "model_module": "@jupyter-widgets/controls",
          "model_name": "ProgressStyleModel",
          "model_module_version": "1.5.0",
          "state": {
            "_view_name": "StyleView",
            "_model_name": "ProgressStyleModel",
            "description_width": "",
            "_view_module": "@jupyter-widgets/base",
            "_model_module_version": "1.5.0",
            "_view_count": null,
            "_view_module_version": "1.2.0",
            "bar_color": null,
            "_model_module": "@jupyter-widgets/controls"
          }
        },
        "8066cca1130a49c99f0127d17620c883": {
          "model_module": "@jupyter-widgets/base",
          "model_name": "LayoutModel",
          "model_module_version": "1.2.0",
          "state": {
            "_view_name": "LayoutView",
            "grid_template_rows": null,
            "right": null,
            "justify_content": null,
            "_view_module": "@jupyter-widgets/base",
            "overflow": null,
            "_model_module_version": "1.2.0",
            "_view_count": null,
            "flex_flow": null,
            "width": null,
            "min_width": null,
            "border": null,
            "align_items": null,
            "bottom": null,
            "_model_module": "@jupyter-widgets/base",
            "top": null,
            "grid_column": null,
            "overflow_y": null,
            "overflow_x": null,
            "grid_auto_flow": null,
            "grid_area": null,
            "grid_template_columns": null,
            "flex": null,
            "_model_name": "LayoutModel",
            "justify_items": null,
            "grid_row": null,
            "max_height": null,
            "align_content": null,
            "visibility": null,
            "align_self": null,
            "height": null,
            "min_height": null,
            "padding": null,
            "grid_auto_rows": null,
            "grid_gap": null,
            "max_width": null,
            "order": null,
            "_view_module_version": "1.2.0",
            "grid_template_areas": null,
            "object_position": null,
            "object_fit": null,
            "grid_auto_columns": null,
            "margin": null,
            "display": null,
            "left": null
          }
        },
        "f15928f43cab43aa98a040972da52cf1": {
          "model_module": "@jupyter-widgets/controls",
          "model_name": "DescriptionStyleModel",
          "model_module_version": "1.5.0",
          "state": {
            "_view_name": "StyleView",
            "_model_name": "DescriptionStyleModel",
            "description_width": "",
            "_view_module": "@jupyter-widgets/base",
            "_model_module_version": "1.5.0",
            "_view_count": null,
            "_view_module_version": "1.2.0",
            "_model_module": "@jupyter-widgets/controls"
          }
        },
        "6e444a9c03364fe9b8f466b4578f4460": {
          "model_module": "@jupyter-widgets/base",
          "model_name": "LayoutModel",
          "model_module_version": "1.2.0",
          "state": {
            "_view_name": "LayoutView",
            "grid_template_rows": null,
            "right": null,
            "justify_content": null,
            "_view_module": "@jupyter-widgets/base",
            "overflow": null,
            "_model_module_version": "1.2.0",
            "_view_count": null,
            "flex_flow": null,
            "width": null,
            "min_width": null,
            "border": null,
            "align_items": null,
            "bottom": null,
            "_model_module": "@jupyter-widgets/base",
            "top": null,
            "grid_column": null,
            "overflow_y": null,
            "overflow_x": null,
            "grid_auto_flow": null,
            "grid_area": null,
            "grid_template_columns": null,
            "flex": null,
            "_model_name": "LayoutModel",
            "justify_items": null,
            "grid_row": null,
            "max_height": null,
            "align_content": null,
            "visibility": null,
            "align_self": null,
            "height": null,
            "min_height": null,
            "padding": null,
            "grid_auto_rows": null,
            "grid_gap": null,
            "max_width": null,
            "order": null,
            "_view_module_version": "1.2.0",
            "grid_template_areas": null,
            "object_position": null,
            "object_fit": null,
            "grid_auto_columns": null,
            "margin": null,
            "display": null,
            "left": null
          }
        }
      }
    }
  },
  "cells": [
    {
      "cell_type": "markdown",
      "metadata": {
        "id": "view-in-github",
        "colab_type": "text"
      },
      "source": [
        "<a href=\"https://colab.research.google.com/github/taravatp/Panopic-Feature-Pyramid-Network/blob/main/training/train_panoptic.ipynb\" target=\"_parent\"><img src=\"https://colab.research.google.com/assets/colab-badge.svg\" alt=\"Open In Colab\"/></a>"
      ]
    },
    {
      "cell_type": "markdown",
      "source": [
        "# installing and importing required packages"
      ],
      "metadata": {
        "id": "yLtH7C8soL2G"
      }
    },
    {
      "cell_type": "code",
      "execution_count": null,
      "metadata": {
        "colab": {
          "base_uri": "https://localhost:8080/"
        },
        "id": "f-aQ-TD8k1oz",
        "outputId": "cd777f21-3da8-4544-f96e-33492fceb62c"
      },
      "outputs": [
        {
          "output_type": "stream",
          "name": "stdout",
          "text": [
            "/content/drive/MyDrive/panoptic_FPN\n"
          ]
        }
      ],
      "source": [
        "cd /content/drive/MyDrive/panoptic_FPN"
      ]
    },
    {
      "cell_type": "code",
      "source": [
        "!pip install import_ipynb "
      ],
      "metadata": {
        "colab": {
          "base_uri": "https://localhost:8080/"
        },
        "id": "gKwuBL4vnGW3",
        "outputId": "c6d501d0-feab-456d-9aad-dea917776c63"
      },
      "execution_count": null,
      "outputs": [
        {
          "output_type": "stream",
          "name": "stdout",
          "text": [
            "Collecting import_ipynb\n",
            "  Downloading import-ipynb-0.1.3.tar.gz (4.0 kB)\n",
            "Building wheels for collected packages: import-ipynb\n",
            "  Building wheel for import-ipynb (setup.py) ... \u001b[?25l\u001b[?25hdone\n",
            "  Created wheel for import-ipynb: filename=import_ipynb-0.1.3-py3-none-any.whl size=2975 sha256=76b71b192535090d8f96ab56f6102f680d67408e39eb5b59b1a6a9b412f23c7e\n",
            "  Stored in directory: /root/.cache/pip/wheels/b1/5e/dc/79780689896a056199b0b9f24471e3ee184fbd816df355d5f0\n",
            "Successfully built import-ipynb\n",
            "Installing collected packages: import-ipynb\n",
            "Successfully installed import-ipynb-0.1.3\n"
          ]
        }
      ]
    },
    {
      "cell_type": "code",
      "source": [
        "import torch\n",
        "import torch.nn as nn\n",
        "import torch.nn.functional as F\n",
        "\n",
        "import import_ipynb\n",
        "from coco_panoptic_dataset import panoptic_dataset\n",
        "from models.panoptic_model import PanopticSegmentationModel\n",
        "\n",
        "import matplotlib.pyplot as plt\n",
        "import time\n",
        "import numpy as np\n",
        "\n",
        "import utils\n",
        "import transforms as T"
      ],
      "metadata": {
        "colab": {
          "base_uri": "https://localhost:8080/"
        },
        "id": "L3r0gKdNnIwM",
        "outputId": "fd8a52f6-04ad-42a4-cb07-1a91d160ad32"
      },
      "execution_count": null,
      "outputs": [
        {
          "output_type": "stream",
          "name": "stdout",
          "text": [
            "importing Jupyter notebook from coco_panoptic_dataset.ipynb\n",
            "\u001b[K     |████████████████████████████████| 41 kB 434 kB/s \n",
            "\u001b[K     |████████████████████████████████| 217 kB 15.7 MB/s \n",
            "\u001b[K     |████████████████████████████████| 55 kB 3.1 MB/s \n",
            "\u001b[K     |████████████████████████████████| 10.9 MB 3.5 MB/s \n",
            "\u001b[K     |████████████████████████████████| 58 kB 4.5 MB/s \n",
            "\u001b[K     |████████████████████████████████| 51 kB 6.4 MB/s \n",
            "\u001b[?25hRequirement already satisfied: import_ipynb in /usr/local/lib/python3.7/dist-packages (0.1.3)\n",
            "importing Jupyter notebook from /content/drive/MyDrive/panoptic_FPN/models/panoptic_model.ipynb\n",
            "device: cpu\n"
          ]
        }
      ]
    },
    {
      "cell_type": "code",
      "source": [
        "device = 'cuda' if torch.cuda.is_available() else 'cpu'\n",
        "print(device)"
      ],
      "metadata": {
        "colab": {
          "base_uri": "https://localhost:8080/"
        },
        "id": "ZoyA0vbknef4",
        "outputId": "df7f773e-287e-49e0-cf8a-94a47621e3b1"
      },
      "execution_count": null,
      "outputs": [
        {
          "output_type": "stream",
          "name": "stdout",
          "text": [
            "cpu\n"
          ]
        }
      ]
    },
    {
      "cell_type": "markdown",
      "source": [
        "# Instantiating the Dataset/Model/Optimizer/HyperParameters"
      ],
      "metadata": {
        "id": "8iqZqvBwoViS"
      }
    },
    {
      "cell_type": "code",
      "source": [
        "batch_size = 2\n",
        "dataset_train = panoptic_dataset(flag='train')\n",
        "dataset_test = panoptic_dataset(flag='test')\n",
        "\n",
        "data_loader_train = torch.utils.data.DataLoader(dataset_train,batch_size=batch_size,shuffle=True,collate_fn=utils.collate_fn,num_workers=2)\n",
        "data_loader_test = torch.utils.data.DataLoader(dataset_test,batch_size=batch_size,shuffle=True,collate_fn=utils.collate_fn,num_workers=2) #az collate_FN estefade mikonim chon niaz darim size e tamame vurudiha baham barabar bashand"
      ],
      "metadata": {
        "colab": {
          "base_uri": "https://localhost:8080/"
        },
        "id": "BR04CJm5oIOe",
        "outputId": "a7c0868c-6bfd-42d0-f51d-a01ef911d210"
      },
      "execution_count": null,
      "outputs": [
        {
          "output_type": "stream",
          "name": "stdout",
          "text": [
            "loading annotations into memory...\n",
            "Done (t=3.86s)\n",
            "creating index...\n",
            "index created!\n",
            "loading annotations into memory...\n",
            "Done (t=2.10s)\n",
            "creating index...\n",
            "index created!\n",
            "loading annotations into memory...\n",
            "Done (t=1.10s)\n",
            "creating index...\n",
            "index created!\n",
            "loading annotations into memory...\n",
            "Done (t=1.58s)\n",
            "creating index...\n",
            "index created!\n"
          ]
        }
      ]
    },
    {
      "cell_type": "code",
      "source": [
        "model = PanopticSegmentationModel(81,92).to(device)\n",
        "\n",
        "learning_rate = 1e-4\n",
        "params = [p for p in model.parameters() if p.requires_grad]\n",
        "optimizer = torch.optim.SGD(params, lr=0.005, momentum=0.9, weight_decay=0.0005)\n",
        "lr_scheduler = torch.optim.lr_scheduler.StepLR(optimizer,step_size=3,gamma=0.1)\n",
        "loss_function = nn.CrossEntropyLoss()"
      ],
      "metadata": {
        "colab": {
          "base_uri": "https://localhost:8080/",
          "height": 86,
          "referenced_widgets": [
            "93ce2b0d0103423ba91d1b4f96d53d3c",
            "8b58ed36336f4307b3da86dcc4aa0af0",
            "095f62e84d7246b78c0103a8b24cbdb2",
            "a0c07e01cb5e40b89729c3aad996527a",
            "259f181a4d2544d1ba7f27dfbd35f04f",
            "862b7049636948d88502be708122e774",
            "87e93926c98a44e095121012f645c988",
            "7fb7a4e09930465e8294f015cb3ff0fa",
            "8066cca1130a49c99f0127d17620c883",
            "f15928f43cab43aa98a040972da52cf1",
            "6e444a9c03364fe9b8f466b4578f4460"
          ]
        },
        "id": "oCxdygV3oYL5",
        "outputId": "7f547245-a966-4e69-8b0d-00d2f6b68265"
      },
      "execution_count": null,
      "outputs": [
        {
          "output_type": "stream",
          "name": "stderr",
          "text": [
            "Downloading: \"https://download.pytorch.org/models/maskrcnn_resnet50_fpn_coco-bf2d0c1e.pth\" to /root/.cache/torch/hub/checkpoints/maskrcnn_resnet50_fpn_coco-bf2d0c1e.pth\n"
          ]
        },
        {
          "output_type": "display_data",
          "data": {
            "application/vnd.jupyter.widget-view+json": {
              "model_id": "93ce2b0d0103423ba91d1b4f96d53d3c",
              "version_minor": 0,
              "version_major": 2
            },
            "text/plain": [
              "  0%|          | 0.00/170M [00:00<?, ?B/s]"
            ]
          },
          "metadata": {}
        }
      ]
    },
    {
      "cell_type": "markdown",
      "source": [
        "# training"
      ],
      "metadata": {
        "id": "9g0z-ow3NaX_"
      }
    },
    {
      "cell_type": "code",
      "source": [
        "number_batches = len(data_loader_train)\n",
        "print(number_batches)"
      ],
      "metadata": {
        "colab": {
          "base_uri": "https://localhost:8080/"
        },
        "id": "O2b6UoMjNbzM",
        "outputId": "d3668d9c-9dce-4292-d463-628f5564e5f3"
      },
      "execution_count": null,
      "outputs": [
        {
          "output_type": "stream",
          "name": "stdout",
          "text": [
            "750\n"
          ]
        }
      ]
    },
    {
      "cell_type": "code",
      "source": [
        "num_epochs = 40\n",
        "\n",
        "instance_loss_per_epoch = []\n",
        "semantic_loss_per_epoch = []\n",
        "total_loss_per_epoch = []\n",
        "\n",
        "for epoch in range(num_epochs):\n",
        "\n",
        "  print('starting epoch number:',epoch)\n",
        "  model.train()\n",
        "\n",
        "  time_start = time.time()\n",
        "  loss_accum_instance = 0\n",
        "  loss_accum_semantic = 0\n",
        "  loss_accum_all = 0\n",
        "  loss_accum_classifer = 0\n",
        "  loss_accum_regression = 0\n",
        "  loss_accum_mask = 0\n",
        "  loss_segmentation = 0\n",
        "\n",
        "  for iter,batch in enumerate(data_loader_train):\n",
        "\n",
        "    images = batch[0] #tuple\n",
        "    images = list(image.to(device) for image in images) #list\n",
        "    images = torch.stack(images).to(device)\n",
        "\n",
        "    semantic_targets = batch[1]\n",
        "    semantic_targets = list(semantic_target.to(device).long() for semantic_target in semantic_targets)\n",
        "    semantic_targets = torch.stack(semantic_targets).to(device).long()\n",
        "\n",
        "    instance_targets = batch[2]\n",
        "    instance_targets = [{k:v.to(device) for k,v in t.items()} for t in instance_targets]\n",
        "\n",
        "    loss_dict_instance,predicted_semantic_masks = model(images,instance_targets) #feed forwarding\n",
        "\n",
        "    #calculating loss values\n",
        "    loss_instance = sum(loss for loss in loss_dict_instance.values())\n",
        "    print(predicted_semantic_masks.shape)\n",
        "    print(semantic_targets.shape)\n",
        "    loss_semantic = loss_function(predicted_semantic_masks,semantic_targets)\n",
        "    total_loss = loss_semantic*0.25 + loss_instance*0.75\n",
        "\n",
        "    optimizer.zero_grad()\n",
        "    total_loss.backward()\n",
        "    optimizer.step()\n",
        "\n",
        "    loss_accum_instance += loss_instance.item()\n",
        "    loss_accum_semantic += loss_semantic.item()\n",
        "    loss_accum_all += total_loss.item()\n",
        "    loss_classifier = loss_dict_instance['loss_classifier'].item()\n",
        "    loss_box_reg = loss_dict_instance['loss_box_reg'].item()\n",
        "    loss_mask = loss_dict_instance['loss_mask'].item()\n",
        "    loss_accum_classifer += loss_classifier\n",
        "    loss_accum_regression += loss_box_reg\n",
        "    loss_accum_mask += loss_mask\n",
        "    \n",
        "    if iter%100 == 0 :\n",
        "      print(f\"epoch:{epoch} *** iter:{iter} *** loss_semantic:{loss_semantic} *** loss_instance:{loss_instance} *** loss_classification:{loss_classifier} *** loss_regression:{loss_box_reg} *** loss_mask:{loss_mask}\")\n",
        "\n",
        "  \n",
        "  lr_scheduler.step()\n",
        "  instance_loss_per_epoch.append(loss_accum_instance/len(data_loader_train))\n",
        "  semantic_loss_per_epoch.append(loss_accum_semantic/len(data_loader_train))\n",
        "  total_loss_per_epoch.append(loss_accum_all/len(data_loader_train))\n",
        "\n",
        "  print(f\"end of epoch number {epoch}\")\n",
        "  print(f\"time elapsed: {time.time() - time_start}\")\n",
        "  print(f\"train_instance_loss: {loss_accum_instance/number_batches}\")\n",
        "  print(f\"train_semantic_loss: {loss_accum_semantic/number_batches}\")\n",
        "  print(f\"classification_loss: {loss_accum_classifer/number_batches}\")\n",
        "  print(f\"regression_loss: {loss_accum_regression/number_batches}\")\n",
        "  print(f\"mask_loss: {loss_accum_mask/number_batches}\")\n",
        "\n",
        "  torch.save(model.state_dict(), f\"panoptic_Model{epoch}_batch_{batch_size}.pth\")\n"
      ],
      "metadata": {
        "id": "6do3AJ1jqAO1"
      },
      "execution_count": null,
      "outputs": []
    }
  ]
}