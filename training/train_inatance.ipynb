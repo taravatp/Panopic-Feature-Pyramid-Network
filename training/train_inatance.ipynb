{
  "cells": [
    {
      "cell_type": "markdown",
      "metadata": {
        "id": "view-in-github",
        "colab_type": "text"
      },
      "source": [
        "<a href=\"https://colab.research.google.com/github/taravatp/Panopic-Feature-Pyramid-Network/blob/main/training/train_inatance.ipynb\" target=\"_parent\"><img src=\"https://colab.research.google.com/assets/colab-badge.svg\" alt=\"Open In Colab\"/></a>"
      ]
    },
    {
      "cell_type": "markdown",
      "metadata": {
        "id": "R15mWa4SApN0"
      },
      "source": [
        "# install and importing required packages"
      ]
    },
    {
      "cell_type": "code",
      "execution_count": null,
      "metadata": {
        "id": "zHyvc0xPaofg"
      },
      "outputs": [],
      "source": [
        "cd /content/drive/MyDrive/panoptic_FPN"
      ]
    },
    {
      "cell_type": "code",
      "execution_count": null,
      "metadata": {
        "id": "V0okn_5i0CB_"
      },
      "outputs": [],
      "source": [
        "!pip install import_ipynb "
      ]
    },
    {
      "cell_type": "code",
      "execution_count": null,
      "metadata": {
        "id": "6vZ7qKG7yC5X"
      },
      "outputs": [],
      "source": [
        "import torch\n",
        "\n",
        "import import_ipynb\n",
        "from coco_instance_dataset import coco_instance_dataset\n",
        "from nodels.instance_model import get_model_instance_segmentation\n",
        "import utils\n",
        "\n",
        "import matplotlib.pyplot as plt\n",
        "import time\n",
        "import numpy as np"
      ]
    },
    {
      "cell_type": "code",
      "execution_count": null,
      "metadata": {
        "id": "L4T-l7hqzdQW"
      },
      "outputs": [],
      "source": [
        "device = 'cuda' if torch.cuda.is_available() else 'cpu'\n",
        "print(device)"
      ]
    },
    {
      "cell_type": "markdown",
      "metadata": {
        "id": "muL2uSK9A32Y"
      },
      "source": [
        "# Instantiating the Dataset/Model/Optimizer/HyperParameters"
      ]
    },
    {
      "cell_type": "code",
      "execution_count": null,
      "metadata": {
        "id": "lITeWSggzvQk"
      },
      "outputs": [],
      "source": [
        "batch_size = 2\n",
        "dataset_train = coco_instance_dataset(flag='train')\n",
        "dataset_test = coco_instance_dataset(flag='test')\n",
        "\n",
        "data_loader_train = torch.utils.data.DataLoader(dataset_train,batch_size=batch_size,shuffle=True,collate_fn=utils.collate_fn,num_workers=2)\n",
        "data_loader_test = torch.utils.data.DataLoader(dataset_test,batch_size=batch_size,shuffle=True,collate_fn=utils.collate_fn,num_workers=2)"
      ]
    },
    {
      "cell_type": "code",
      "execution_count": null,
      "metadata": {
        "id": "iY8ds2PW0qSV",
        "colab": {
          "base_uri": "https://localhost:8080/",
          "height": 86,
          "referenced_widgets": [
            "cfe541bedb1f4e598cb7e20f342d6724",
            "100c127e6db94b86ab36d42bd85a5d83",
            "f2ac3ede1bde47afb76b7b019425386e",
            "0af969e805e54b8285b643dbba587af2",
            "1ab8c692cea849c3ae7ecd4ad7571e29",
            "f210e2622e704f2094c747ccb6c7e0d7",
            "34a855c33ee24bcb965fa171220e7a5c",
            "e097d5adb6244cf481268f8d87b6e5de",
            "0294f9a42e8c4c5f9391d59f46407044",
            "ab92f83640554e8a8df41daf58923798",
            "7afa09c916eb462b9c6decc224ba9d1b"
          ]
        },
        "outputId": "a8f4f35b-3aa0-4815-b309-80a798fe85e9"
      },
      "outputs": [
        {
          "output_type": "stream",
          "name": "stderr",
          "text": [
            "Downloading: \"https://download.pytorch.org/models/maskrcnn_resnet50_fpn_coco-bf2d0c1e.pth\" to /root/.cache/torch/hub/checkpoints/maskrcnn_resnet50_fpn_coco-bf2d0c1e.pth\n"
          ]
        },
        {
          "output_type": "display_data",
          "data": {
            "application/vnd.jupyter.widget-view+json": {
              "model_id": "cfe541bedb1f4e598cb7e20f342d6724",
              "version_minor": 0,
              "version_major": 2
            },
            "text/plain": [
              "  0%|          | 0.00/170M [00:00<?, ?B/s]"
            ]
          },
          "metadata": {}
        }
      ],
      "source": [
        "model = get_model_instance_segmentation(81).to(device)\n",
        "params = [p for p in model.parameters() if p.requires_grad]\n",
        "optimizer = torch.optim.SGD(params, lr=0.005, momentum=0.9, weight_decay=0.0005)\n",
        "lr_scheduler = torch.optim.lr_scheduler.StepLR(optimizer,step_size=3,gamma=0.1)"
      ]
    },
    {
      "cell_type": "markdown",
      "metadata": {
        "id": "ZphjsqftEtHy"
      },
      "source": [
        "# training"
      ]
    },
    {
      "cell_type": "code",
      "source": [
        "number_batches = len(data_loader_train)\n",
        "print(number_batches)"
      ],
      "metadata": {
        "colab": {
          "base_uri": "https://localhost:8080/"
        },
        "id": "I37c7246GfzC",
        "outputId": "29162c31-4d0c-4fa4-c30a-9f90f9fae75a"
      },
      "execution_count": null,
      "outputs": [
        {
          "output_type": "stream",
          "name": "stdout",
          "text": [
            "750\n"
          ]
        }
      ]
    },
    {
      "cell_type": "code",
      "source": [
        "num_epochs = 5\n",
        "train_history = []\n",
        "for epoch in range(num_epochs):\n",
        "\n",
        "  print('starting epoch number:',epoch)\n",
        "  model.train()\n",
        "\n",
        "  time_start = time.time()\n",
        "  loss_accum = 0\n",
        "  loss_accum_classifer = 0\n",
        "  loss_accum_regression = 0\n",
        "  loss_accum_mask = 0\n",
        "\n",
        "  for iter,batch in enumerate(data_loader_train):\n",
        "\n",
        "    images = batch[0]\n",
        "    images = list(image.to(device) for image in images)\n",
        "\n",
        "    targets = batch[1]\n",
        "    targets = [{k:v.to(device) for k,v in t.items()} for t in targets]\n",
        "\n",
        "    loss_dict = model(images,targets)\n",
        "    loss = sum(loss for loss in loss_dict.values())\n",
        "    loss_accum += loss.item()\n",
        "    optimizer.zero_grad()\n",
        "    loss.backward()\n",
        "    optimizer.step()\n",
        "\n",
        "    loss_classifier = loss_dict['loss_classifier'].item()\n",
        "    loss_box_reg = loss_dict['loss_box_reg'].item()\n",
        "    loss_mask = loss_dict['loss_mask'].item()\n",
        "    loss_accum_classifer += loss_classifier\n",
        "    loss_accum_regression += loss_box_reg\n",
        "    loss_accum_mask += loss_mask\n",
        "    \n",
        "    if iter%100 == 0 :\n",
        "      print(f\"epoch:{epoch} *** iter:{iter} *** batach:{iter} *** total_loss:{loss} *** loss_classification:{loss_classifier} *** loss_regression:{loss_box_reg} *** loss_mask:{loss_mask}\")\n",
        "\n",
        "  lr_scheduler.step()\n",
        "\n",
        "  print(f\"end of epoch number {epoch}\")\n",
        "  print(f\"time elapsed: {time.time() - time_start}\")\n",
        "  print(f\"train_loss: {loss_accum/number_batches}\")\n",
        "  print(f\"classification_loss: {loss_accum_classifer/number_batches}\")\n",
        "  print(f\"regression_loss: {loss_accum_regression/number_batches}\")\n",
        "  print(f\"mask_loss: {loss_accum_mask/number_batches}\")\n",
        "  torch.save(model.state_dict(), f\"instance_Model{epoch}_batch_{batch_size}.pth\")\n"
      ],
      "metadata": {
        "colab": {
          "base_uri": "https://localhost:8080/"
        },
        "id": "4xu1kA2TEOhW",
        "outputId": "f7a12721-2eb4-4518-c3d1-b1e7ca5d565c"
      },
      "execution_count": null,
      "outputs": [
        {
          "output_type": "stream",
          "name": "stdout",
          "text": [
            "starting epoch number: 0\n"
          ]
        },
        {
          "output_type": "stream",
          "name": "stderr",
          "text": [
            "coco_instance_dataset.ipynb:68: UserWarning: Creating a tensor from a list of numpy.ndarrays is extremely slow. Please consider converting the list to a single numpy.ndarray with numpy.array() before converting to a tensor. (Triggered internally at  ../torch/csrc/utils/tensor_new.cpp:201.)\n",
            "coco_instance_dataset.ipynb:68: UserWarning: Creating a tensor from a list of numpy.ndarrays is extremely slow. Please consider converting the list to a single numpy.ndarray with numpy.array() before converting to a tensor. (Triggered internally at  ../torch/csrc/utils/tensor_new.cpp:201.)\n",
            "/usr/local/lib/python3.7/dist-packages/torch/functional.py:445: UserWarning: torch.meshgrid: in an upcoming release, it will be required to pass the indexing argument. (Triggered internally at  ../aten/src/ATen/native/TensorShape.cpp:2157.)\n",
            "  return _VF.meshgrid(tensors, **kwargs)  # type: ignore[attr-defined]\n"
          ]
        },
        {
          "output_type": "stream",
          "name": "stdout",
          "text": [
            "epoch:0 *** iter:0 *** batach:0 *** total_loss:5.971080303192139 *** loss_classification:4.564242839813232 *** loss_regression:0.5224817395210266 *** loss_mask:0.8441386222839355\n",
            "epoch:0 *** iter:100 *** batach:100 *** total_loss:2.4325475692749023 *** loss_classification:1.141072392463684 *** loss_regression:0.6524442434310913 *** loss_mask:0.5939818024635315\n",
            "epoch:0 *** iter:200 *** batach:200 *** total_loss:1.0764710903167725 *** loss_classification:0.33692893385887146 *** loss_regression:0.26429861783981323 *** loss_mask:0.4456880986690521\n",
            "epoch:0 *** iter:300 *** batach:300 *** total_loss:1.6881450414657593 *** loss_classification:0.6634969711303711 *** loss_regression:0.4723193049430847 *** loss_mask:0.48654988408088684\n",
            "epoch:0 *** iter:400 *** batach:400 *** total_loss:2.9327011108398438 *** loss_classification:1.0528082847595215 *** loss_regression:0.6595340967178345 *** loss_mask:0.5112853646278381\n",
            "epoch:0 *** iter:500 *** batach:500 *** total_loss:1.6500788927078247 *** loss_classification:0.6736324429512024 *** loss_regression:0.4608286917209625 *** loss_mask:0.3983796536922455\n",
            "epoch:0 *** iter:600 *** batach:600 *** total_loss:1.971651554107666 *** loss_classification:0.89481520652771 *** loss_regression:0.5029786825180054 *** loss_mask:0.31808701157569885\n",
            "epoch:0 *** iter:700 *** batach:700 *** total_loss:0.8667822480201721 *** loss_classification:0.31642231345176697 *** loss_regression:0.20986661314964294 *** loss_mask:0.3039093315601349\n",
            "end of epoch number 0\n",
            "time elapsed: 1897.988891363144\n",
            "train_loss: 1.5488127215305965\n",
            "classification_loss: 0.5517065613170464\n",
            "regression_loss: 0.3997016489505768\n",
            "mask_loss: 0.4314830236633619\n",
            "starting epoch number: 1\n"
          ]
        },
        {
          "output_type": "stream",
          "name": "stderr",
          "text": [
            "coco_instance_dataset.ipynb:68: UserWarning: Creating a tensor from a list of numpy.ndarrays is extremely slow. Please consider converting the list to a single numpy.ndarray with numpy.array() before converting to a tensor. (Triggered internally at  ../torch/csrc/utils/tensor_new.cpp:201.)\n",
            "coco_instance_dataset.ipynb:68: UserWarning: Creating a tensor from a list of numpy.ndarrays is extremely slow. Please consider converting the list to a single numpy.ndarray with numpy.array() before converting to a tensor. (Triggered internally at  ../torch/csrc/utils/tensor_new.cpp:201.)\n"
          ]
        },
        {
          "output_type": "stream",
          "name": "stdout",
          "text": [
            "epoch:1 *** iter:0 *** batach:0 *** total_loss:1.434792399406433 *** loss_classification:0.40393608808517456 *** loss_regression:0.3675489127635956 *** loss_mask:0.35407543182373047\n",
            "epoch:1 *** iter:100 *** batach:100 *** total_loss:1.692063808441162 *** loss_classification:0.535819947719574 *** loss_regression:0.3559020757675171 *** loss_mask:0.45265790820121765\n",
            "epoch:1 *** iter:200 *** batach:200 *** total_loss:0.7236737608909607 *** loss_classification:0.20073381066322327 *** loss_regression:0.2034568339586258 *** loss_mask:0.27586492896080017\n",
            "epoch:1 *** iter:300 *** batach:300 *** total_loss:0.6773064732551575 *** loss_classification:0.16934111714363098 *** loss_regression:0.13593685626983643 *** loss_mask:0.3396976888179779\n",
            "epoch:1 *** iter:400 *** batach:400 *** total_loss:1.2065997123718262 *** loss_classification:0.2929069399833679 *** loss_regression:0.4757508635520935 *** loss_mask:0.30150726437568665\n",
            "epoch:1 *** iter:500 *** batach:500 *** total_loss:1.1682710647583008 *** loss_classification:0.35938504338264465 *** loss_regression:0.3550800681114197 *** loss_mask:0.3393726050853729\n",
            "epoch:1 *** iter:600 *** batach:600 *** total_loss:0.577366054058075 *** loss_classification:0.20881102979183197 *** loss_regression:0.09066570550203323 *** loss_mask:0.24182602763175964\n",
            "epoch:1 *** iter:700 *** batach:700 *** total_loss:0.8323215842247009 *** loss_classification:0.28280091285705566 *** loss_regression:0.22062517702579498 *** loss_mask:0.30837705731391907\n",
            "end of epoch number 1\n",
            "time elapsed: 1892.5568215847015\n",
            "train_loss: 1.166993721564611\n",
            "classification_loss: 0.37493762804567815\n",
            "regression_loss: 0.3429673100610574\n",
            "mask_loss: 0.31943985641996064\n",
            "starting epoch number: 2\n"
          ]
        },
        {
          "output_type": "stream",
          "name": "stderr",
          "text": [
            "coco_instance_dataset.ipynb:68: UserWarning: Creating a tensor from a list of numpy.ndarrays is extremely slow. Please consider converting the list to a single numpy.ndarray with numpy.array() before converting to a tensor. (Triggered internally at  ../torch/csrc/utils/tensor_new.cpp:201.)\n",
            "coco_instance_dataset.ipynb:68: UserWarning: Creating a tensor from a list of numpy.ndarrays is extremely slow. Please consider converting the list to a single numpy.ndarray with numpy.array() before converting to a tensor. (Triggered internally at  ../torch/csrc/utils/tensor_new.cpp:201.)\n"
          ]
        },
        {
          "output_type": "stream",
          "name": "stdout",
          "text": [
            "epoch:2 *** iter:0 *** batach:0 *** total_loss:0.9614880681037903 *** loss_classification:0.3564978837966919 *** loss_regression:0.2895510792732239 *** loss_mask:0.25479525327682495\n",
            "epoch:2 *** iter:100 *** batach:100 *** total_loss:0.8224349021911621 *** loss_classification:0.2330838441848755 *** loss_regression:0.20507927238941193 *** loss_mask:0.31350743770599365\n",
            "epoch:2 *** iter:200 *** batach:200 *** total_loss:1.0812028646469116 *** loss_classification:0.41046521067619324 *** loss_regression:0.3440890312194824 *** loss_mask:0.2909620404243469\n",
            "epoch:2 *** iter:300 *** batach:300 *** total_loss:0.586327850818634 *** loss_classification:0.16110371053218842 *** loss_regression:0.059385113418102264 *** loss_mask:0.3391820788383484\n",
            "epoch:2 *** iter:400 *** batach:400 *** total_loss:1.344793438911438 *** loss_classification:0.3233991861343384 *** loss_regression:0.3264525830745697 *** loss_mask:0.3911706209182739\n",
            "epoch:2 *** iter:500 *** batach:500 *** total_loss:1.5555514097213745 *** loss_classification:0.522316575050354 *** loss_regression:0.5523809790611267 *** loss_mask:0.3149709105491638\n",
            "epoch:2 *** iter:600 *** batach:600 *** total_loss:0.8029782772064209 *** loss_classification:0.12223289906978607 *** loss_regression:0.29101741313934326 *** loss_mask:0.3748895227909088\n",
            "epoch:2 *** iter:700 *** batach:700 *** total_loss:1.2416629791259766 *** loss_classification:0.44847962260246277 *** loss_regression:0.4022883176803589 *** loss_mask:0.31220898032188416\n",
            "end of epoch number 2\n",
            "time elapsed: 1877.5371799468994\n",
            "train_loss: 1.0353109547694523\n",
            "classification_loss: 0.31420061361293\n",
            "regression_loss: 0.310769545952479\n",
            "mask_loss: 0.29825339183211325\n",
            "starting epoch number: 3\n"
          ]
        },
        {
          "output_type": "stream",
          "name": "stderr",
          "text": [
            "coco_instance_dataset.ipynb:68: UserWarning: Creating a tensor from a list of numpy.ndarrays is extremely slow. Please consider converting the list to a single numpy.ndarray with numpy.array() before converting to a tensor. (Triggered internally at  ../torch/csrc/utils/tensor_new.cpp:201.)\n",
            "coco_instance_dataset.ipynb:68: UserWarning: Creating a tensor from a list of numpy.ndarrays is extremely slow. Please consider converting the list to a single numpy.ndarray with numpy.array() before converting to a tensor. (Triggered internally at  ../torch/csrc/utils/tensor_new.cpp:201.)\n"
          ]
        },
        {
          "output_type": "stream",
          "name": "stdout",
          "text": [
            "epoch:3 *** iter:0 *** batach:0 *** total_loss:0.8812294602394104 *** loss_classification:0.19032453000545502 *** loss_regression:0.29448258876800537 *** loss_mask:0.35147371888160706\n",
            "epoch:3 *** iter:100 *** batach:100 *** total_loss:1.2136290073394775 *** loss_classification:0.36469516158103943 *** loss_regression:0.35880517959594727 *** loss_mask:0.29133403301239014\n",
            "epoch:3 *** iter:200 *** batach:200 *** total_loss:0.7641709446907043 *** loss_classification:0.143002450466156 *** loss_regression:0.2776557207107544 *** loss_mask:0.24743422865867615\n",
            "epoch:3 *** iter:300 *** batach:300 *** total_loss:0.8790445923805237 *** loss_classification:0.29665201902389526 *** loss_regression:0.27714574337005615 *** loss_mask:0.26860690116882324\n",
            "epoch:3 *** iter:400 *** batach:400 *** total_loss:0.5799343585968018 *** loss_classification:0.13089920580387115 *** loss_regression:0.16167885065078735 *** loss_mask:0.22613634169101715\n",
            "epoch:3 *** iter:500 *** batach:500 *** total_loss:0.5679492950439453 *** loss_classification:0.09318221360445023 *** loss_regression:0.24381424486637115 *** loss_mask:0.19955018162727356\n",
            "epoch:3 *** iter:600 *** batach:600 *** total_loss:0.7405242919921875 *** loss_classification:0.17353259027004242 *** loss_regression:0.262851357460022 *** loss_mask:0.2536841928958893\n",
            "epoch:3 *** iter:700 *** batach:700 *** total_loss:0.390887588262558 *** loss_classification:0.09161750227212906 *** loss_regression:0.11937934160232544 *** loss_mask:0.17516297101974487\n",
            "end of epoch number 3\n",
            "time elapsed: 1879.1653912067413\n",
            "train_loss: 0.8261136894822121\n",
            "classification_loss: 0.21974898577481508\n",
            "regression_loss: 0.2611532308558623\n",
            "mask_loss: 0.26340115956465404\n",
            "starting epoch number: 4\n"
          ]
        },
        {
          "output_type": "stream",
          "name": "stderr",
          "text": [
            "coco_instance_dataset.ipynb:68: UserWarning: Creating a tensor from a list of numpy.ndarrays is extremely slow. Please consider converting the list to a single numpy.ndarray with numpy.array() before converting to a tensor. (Triggered internally at  ../torch/csrc/utils/tensor_new.cpp:201.)\n",
            "coco_instance_dataset.ipynb:68: UserWarning: Creating a tensor from a list of numpy.ndarrays is extremely slow. Please consider converting the list to a single numpy.ndarray with numpy.array() before converting to a tensor. (Triggered internally at  ../torch/csrc/utils/tensor_new.cpp:201.)\n"
          ]
        },
        {
          "output_type": "stream",
          "name": "stdout",
          "text": [
            "epoch:4 *** iter:0 *** batach:0 *** total_loss:0.4916737675666809 *** loss_classification:0.09195705503225327 *** loss_regression:0.12770035862922668 *** loss_mask:0.24641470611095428\n",
            "epoch:4 *** iter:100 *** batach:100 *** total_loss:0.7577956914901733 *** loss_classification:0.11780259758234024 *** loss_regression:0.26352259516716003 *** loss_mask:0.30330806970596313\n",
            "epoch:4 *** iter:200 *** batach:200 *** total_loss:0.6395263075828552 *** loss_classification:0.11741463840007782 *** loss_regression:0.23690234124660492 *** loss_mask:0.23383872210979462\n",
            "epoch:4 *** iter:300 *** batach:300 *** total_loss:0.8795004487037659 *** loss_classification:0.3164578378200531 *** loss_regression:0.14607352018356323 *** loss_mask:0.29878368973731995\n",
            "epoch:4 *** iter:400 *** batach:400 *** total_loss:1.228596806526184 *** loss_classification:0.37626591324806213 *** loss_regression:0.30383896827697754 *** loss_mask:0.3875311613082886\n",
            "epoch:4 *** iter:500 *** batach:500 *** total_loss:0.5469575524330139 *** loss_classification:0.11602147668600082 *** loss_regression:0.19606631994247437 *** loss_mask:0.21867932379245758\n",
            "epoch:4 *** iter:600 *** batach:600 *** total_loss:0.36784863471984863 *** loss_classification:0.02076679840683937 *** loss_regression:0.07480733096599579 *** loss_mask:0.23836062848567963\n",
            "epoch:4 *** iter:700 *** batach:700 *** total_loss:0.9257202744483948 *** loss_classification:0.2432831972837448 *** loss_regression:0.2986270785331726 *** loss_mask:0.3317785859107971\n",
            "end of epoch number 4\n",
            "time elapsed: 1894.0198075771332\n",
            "train_loss: 0.7575275759299596\n",
            "classification_loss: 0.19434927029162646\n",
            "regression_loss: 0.2413899690906207\n",
            "mask_loss: 0.2502073627611001\n"
          ]
        }
      ]
    }
  ],
  "metadata": {
    "colab": {
      "collapsed_sections": [],
      "name": "train_inatance.ipynb",
      "provenance": [],
      "include_colab_link": true
    },
    "kernelspec": {
      "display_name": "Python 3",
      "name": "python3"
    },
    "language_info": {
      "name": "python"
    },
    "accelerator": "GPU",
    "widgets": {
      "application/vnd.jupyter.widget-state+json": {
        "cfe541bedb1f4e598cb7e20f342d6724": {
          "model_module": "@jupyter-widgets/controls",
          "model_name": "HBoxModel",
          "model_module_version": "1.5.0",
          "state": {
            "_view_name": "HBoxView",
            "_dom_classes": [],
            "_model_name": "HBoxModel",
            "_view_module": "@jupyter-widgets/controls",
            "_model_module_version": "1.5.0",
            "_view_count": null,
            "_view_module_version": "1.5.0",
            "box_style": "",
            "layout": "IPY_MODEL_100c127e6db94b86ab36d42bd85a5d83",
            "_model_module": "@jupyter-widgets/controls",
            "children": [
              "IPY_MODEL_f2ac3ede1bde47afb76b7b019425386e",
              "IPY_MODEL_0af969e805e54b8285b643dbba587af2",
              "IPY_MODEL_1ab8c692cea849c3ae7ecd4ad7571e29"
            ]
          }
        },
        "100c127e6db94b86ab36d42bd85a5d83": {
          "model_module": "@jupyter-widgets/base",
          "model_name": "LayoutModel",
          "model_module_version": "1.2.0",
          "state": {
            "_view_name": "LayoutView",
            "grid_template_rows": null,
            "right": null,
            "justify_content": null,
            "_view_module": "@jupyter-widgets/base",
            "overflow": null,
            "_model_module_version": "1.2.0",
            "_view_count": null,
            "flex_flow": null,
            "width": null,
            "min_width": null,
            "border": null,
            "align_items": null,
            "bottom": null,
            "_model_module": "@jupyter-widgets/base",
            "top": null,
            "grid_column": null,
            "overflow_y": null,
            "overflow_x": null,
            "grid_auto_flow": null,
            "grid_area": null,
            "grid_template_columns": null,
            "flex": null,
            "_model_name": "LayoutModel",
            "justify_items": null,
            "grid_row": null,
            "max_height": null,
            "align_content": null,
            "visibility": null,
            "align_self": null,
            "height": null,
            "min_height": null,
            "padding": null,
            "grid_auto_rows": null,
            "grid_gap": null,
            "max_width": null,
            "order": null,
            "_view_module_version": "1.2.0",
            "grid_template_areas": null,
            "object_position": null,
            "object_fit": null,
            "grid_auto_columns": null,
            "margin": null,
            "display": null,
            "left": null
          }
        },
        "f2ac3ede1bde47afb76b7b019425386e": {
          "model_module": "@jupyter-widgets/controls",
          "model_name": "HTMLModel",
          "model_module_version": "1.5.0",
          "state": {
            "_view_name": "HTMLView",
            "style": "IPY_MODEL_f210e2622e704f2094c747ccb6c7e0d7",
            "_dom_classes": [],
            "description": "",
            "_model_name": "HTMLModel",
            "placeholder": "​",
            "_view_module": "@jupyter-widgets/controls",
            "_model_module_version": "1.5.0",
            "value": "100%",
            "_view_count": null,
            "_view_module_version": "1.5.0",
            "description_tooltip": null,
            "_model_module": "@jupyter-widgets/controls",
            "layout": "IPY_MODEL_34a855c33ee24bcb965fa171220e7a5c"
          }
        },
        "0af969e805e54b8285b643dbba587af2": {
          "model_module": "@jupyter-widgets/controls",
          "model_name": "FloatProgressModel",
          "model_module_version": "1.5.0",
          "state": {
            "_view_name": "ProgressView",
            "style": "IPY_MODEL_e097d5adb6244cf481268f8d87b6e5de",
            "_dom_classes": [],
            "description": "",
            "_model_name": "FloatProgressModel",
            "bar_style": "success",
            "max": 178090079,
            "_view_module": "@jupyter-widgets/controls",
            "_model_module_version": "1.5.0",
            "value": 178090079,
            "_view_count": null,
            "_view_module_version": "1.5.0",
            "orientation": "horizontal",
            "min": 0,
            "description_tooltip": null,
            "_model_module": "@jupyter-widgets/controls",
            "layout": "IPY_MODEL_0294f9a42e8c4c5f9391d59f46407044"
          }
        },
        "1ab8c692cea849c3ae7ecd4ad7571e29": {
          "model_module": "@jupyter-widgets/controls",
          "model_name": "HTMLModel",
          "model_module_version": "1.5.0",
          "state": {
            "_view_name": "HTMLView",
            "style": "IPY_MODEL_ab92f83640554e8a8df41daf58923798",
            "_dom_classes": [],
            "description": "",
            "_model_name": "HTMLModel",
            "placeholder": "​",
            "_view_module": "@jupyter-widgets/controls",
            "_model_module_version": "1.5.0",
            "value": " 170M/170M [00:01&lt;00:00, 137MB/s]",
            "_view_count": null,
            "_view_module_version": "1.5.0",
            "description_tooltip": null,
            "_model_module": "@jupyter-widgets/controls",
            "layout": "IPY_MODEL_7afa09c916eb462b9c6decc224ba9d1b"
          }
        },
        "f210e2622e704f2094c747ccb6c7e0d7": {
          "model_module": "@jupyter-widgets/controls",
          "model_name": "DescriptionStyleModel",
          "model_module_version": "1.5.0",
          "state": {
            "_view_name": "StyleView",
            "_model_name": "DescriptionStyleModel",
            "description_width": "",
            "_view_module": "@jupyter-widgets/base",
            "_model_module_version": "1.5.0",
            "_view_count": null,
            "_view_module_version": "1.2.0",
            "_model_module": "@jupyter-widgets/controls"
          }
        },
        "34a855c33ee24bcb965fa171220e7a5c": {
          "model_module": "@jupyter-widgets/base",
          "model_name": "LayoutModel",
          "model_module_version": "1.2.0",
          "state": {
            "_view_name": "LayoutView",
            "grid_template_rows": null,
            "right": null,
            "justify_content": null,
            "_view_module": "@jupyter-widgets/base",
            "overflow": null,
            "_model_module_version": "1.2.0",
            "_view_count": null,
            "flex_flow": null,
            "width": null,
            "min_width": null,
            "border": null,
            "align_items": null,
            "bottom": null,
            "_model_module": "@jupyter-widgets/base",
            "top": null,
            "grid_column": null,
            "overflow_y": null,
            "overflow_x": null,
            "grid_auto_flow": null,
            "grid_area": null,
            "grid_template_columns": null,
            "flex": null,
            "_model_name": "LayoutModel",
            "justify_items": null,
            "grid_row": null,
            "max_height": null,
            "align_content": null,
            "visibility": null,
            "align_self": null,
            "height": null,
            "min_height": null,
            "padding": null,
            "grid_auto_rows": null,
            "grid_gap": null,
            "max_width": null,
            "order": null,
            "_view_module_version": "1.2.0",
            "grid_template_areas": null,
            "object_position": null,
            "object_fit": null,
            "grid_auto_columns": null,
            "margin": null,
            "display": null,
            "left": null
          }
        },
        "e097d5adb6244cf481268f8d87b6e5de": {
          "model_module": "@jupyter-widgets/controls",
          "model_name": "ProgressStyleModel",
          "model_module_version": "1.5.0",
          "state": {
            "_view_name": "StyleView",
            "_model_name": "ProgressStyleModel",
            "description_width": "",
            "_view_module": "@jupyter-widgets/base",
            "_model_module_version": "1.5.0",
            "_view_count": null,
            "_view_module_version": "1.2.0",
            "bar_color": null,
            "_model_module": "@jupyter-widgets/controls"
          }
        },
        "0294f9a42e8c4c5f9391d59f46407044": {
          "model_module": "@jupyter-widgets/base",
          "model_name": "LayoutModel",
          "model_module_version": "1.2.0",
          "state": {
            "_view_name": "LayoutView",
            "grid_template_rows": null,
            "right": null,
            "justify_content": null,
            "_view_module": "@jupyter-widgets/base",
            "overflow": null,
            "_model_module_version": "1.2.0",
            "_view_count": null,
            "flex_flow": null,
            "width": null,
            "min_width": null,
            "border": null,
            "align_items": null,
            "bottom": null,
            "_model_module": "@jupyter-widgets/base",
            "top": null,
            "grid_column": null,
            "overflow_y": null,
            "overflow_x": null,
            "grid_auto_flow": null,
            "grid_area": null,
            "grid_template_columns": null,
            "flex": null,
            "_model_name": "LayoutModel",
            "justify_items": null,
            "grid_row": null,
            "max_height": null,
            "align_content": null,
            "visibility": null,
            "align_self": null,
            "height": null,
            "min_height": null,
            "padding": null,
            "grid_auto_rows": null,
            "grid_gap": null,
            "max_width": null,
            "order": null,
            "_view_module_version": "1.2.0",
            "grid_template_areas": null,
            "object_position": null,
            "object_fit": null,
            "grid_auto_columns": null,
            "margin": null,
            "display": null,
            "left": null
          }
        },
        "ab92f83640554e8a8df41daf58923798": {
          "model_module": "@jupyter-widgets/controls",
          "model_name": "DescriptionStyleModel",
          "model_module_version": "1.5.0",
          "state": {
            "_view_name": "StyleView",
            "_model_name": "DescriptionStyleModel",
            "description_width": "",
            "_view_module": "@jupyter-widgets/base",
            "_model_module_version": "1.5.0",
            "_view_count": null,
            "_view_module_version": "1.2.0",
            "_model_module": "@jupyter-widgets/controls"
          }
        },
        "7afa09c916eb462b9c6decc224ba9d1b": {
          "model_module": "@jupyter-widgets/base",
          "model_name": "LayoutModel",
          "model_module_version": "1.2.0",
          "state": {
            "_view_name": "LayoutView",
            "grid_template_rows": null,
            "right": null,
            "justify_content": null,
            "_view_module": "@jupyter-widgets/base",
            "overflow": null,
            "_model_module_version": "1.2.0",
            "_view_count": null,
            "flex_flow": null,
            "width": null,
            "min_width": null,
            "border": null,
            "align_items": null,
            "bottom": null,
            "_model_module": "@jupyter-widgets/base",
            "top": null,
            "grid_column": null,
            "overflow_y": null,
            "overflow_x": null,
            "grid_auto_flow": null,
            "grid_area": null,
            "grid_template_columns": null,
            "flex": null,
            "_model_name": "LayoutModel",
            "justify_items": null,
            "grid_row": null,
            "max_height": null,
            "align_content": null,
            "visibility": null,
            "align_self": null,
            "height": null,
            "min_height": null,
            "padding": null,
            "grid_auto_rows": null,
            "grid_gap": null,
            "max_width": null,
            "order": null,
            "_view_module_version": "1.2.0",
            "grid_template_areas": null,
            "object_position": null,
            "object_fit": null,
            "grid_auto_columns": null,
            "margin": null,
            "display": null,
            "left": null
          }
        }
      }
    }
  },
  "nbformat": 4,
  "nbformat_minor": 0
}