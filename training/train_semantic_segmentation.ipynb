{
  "nbformat": 4,
  "nbformat_minor": 0,
  "metadata": {
    "colab": {
      "name": "train_semantic_segmentation.ipynb",
      "provenance": [],
      "collapsed_sections": [],
      "include_colab_link": true
    },
    "kernelspec": {
      "name": "python3",
      "display_name": "Python 3"
    },
    "language_info": {
      "name": "python"
    },
    "accelerator": "GPU",
    "widgets": {
      "application/vnd.jupyter.widget-state+json": {
        "6d06bcec03194d758828a4b97594fae8": {
          "model_module": "@jupyter-widgets/controls",
          "model_name": "HBoxModel",
          "model_module_version": "1.5.0",
          "state": {
            "_view_name": "HBoxView",
            "_dom_classes": [],
            "_model_name": "HBoxModel",
            "_view_module": "@jupyter-widgets/controls",
            "_model_module_version": "1.5.0",
            "_view_count": null,
            "_view_module_version": "1.5.0",
            "box_style": "",
            "layout": "IPY_MODEL_4709fdc69c074a6294378bf527e52a63",
            "_model_module": "@jupyter-widgets/controls",
            "children": [
              "IPY_MODEL_8a61d6f26af643b0afd723f5f2a1bed7",
              "IPY_MODEL_e4b0b6a1b4bf44b5b425f32a36952cf1",
              "IPY_MODEL_4df9459f70034327b75ca0a5cff3c804"
            ]
          }
        },
        "4709fdc69c074a6294378bf527e52a63": {
          "model_module": "@jupyter-widgets/base",
          "model_name": "LayoutModel",
          "model_module_version": "1.2.0",
          "state": {
            "_view_name": "LayoutView",
            "grid_template_rows": null,
            "right": null,
            "justify_content": null,
            "_view_module": "@jupyter-widgets/base",
            "overflow": null,
            "_model_module_version": "1.2.0",
            "_view_count": null,
            "flex_flow": null,
            "width": null,
            "min_width": null,
            "border": null,
            "align_items": null,
            "bottom": null,
            "_model_module": "@jupyter-widgets/base",
            "top": null,
            "grid_column": null,
            "overflow_y": null,
            "overflow_x": null,
            "grid_auto_flow": null,
            "grid_area": null,
            "grid_template_columns": null,
            "flex": null,
            "_model_name": "LayoutModel",
            "justify_items": null,
            "grid_row": null,
            "max_height": null,
            "align_content": null,
            "visibility": null,
            "align_self": null,
            "height": null,
            "min_height": null,
            "padding": null,
            "grid_auto_rows": null,
            "grid_gap": null,
            "max_width": null,
            "order": null,
            "_view_module_version": "1.2.0",
            "grid_template_areas": null,
            "object_position": null,
            "object_fit": null,
            "grid_auto_columns": null,
            "margin": null,
            "display": null,
            "left": null
          }
        },
        "8a61d6f26af643b0afd723f5f2a1bed7": {
          "model_module": "@jupyter-widgets/controls",
          "model_name": "HTMLModel",
          "model_module_version": "1.5.0",
          "state": {
            "_view_name": "HTMLView",
            "style": "IPY_MODEL_927602b9d79b4a27b60f1ee1f46007a1",
            "_dom_classes": [],
            "description": "",
            "_model_name": "HTMLModel",
            "placeholder": "​",
            "_view_module": "@jupyter-widgets/controls",
            "_model_module_version": "1.5.0",
            "value": "100%",
            "_view_count": null,
            "_view_module_version": "1.5.0",
            "description_tooltip": null,
            "_model_module": "@jupyter-widgets/controls",
            "layout": "IPY_MODEL_0eabd745213f4de88d911d291c36b2de"
          }
        },
        "e4b0b6a1b4bf44b5b425f32a36952cf1": {
          "model_module": "@jupyter-widgets/controls",
          "model_name": "FloatProgressModel",
          "model_module_version": "1.5.0",
          "state": {
            "_view_name": "ProgressView",
            "style": "IPY_MODEL_ad1a5a5729eb46a88bad5059b2fb3bf3",
            "_dom_classes": [],
            "description": "",
            "_model_name": "FloatProgressModel",
            "bar_style": "success",
            "max": 178090079,
            "_view_module": "@jupyter-widgets/controls",
            "_model_module_version": "1.5.0",
            "value": 178090079,
            "_view_count": null,
            "_view_module_version": "1.5.0",
            "orientation": "horizontal",
            "min": 0,
            "description_tooltip": null,
            "_model_module": "@jupyter-widgets/controls",
            "layout": "IPY_MODEL_7466143c54f14c5f90ddf0e9276c2470"
          }
        },
        "4df9459f70034327b75ca0a5cff3c804": {
          "model_module": "@jupyter-widgets/controls",
          "model_name": "HTMLModel",
          "model_module_version": "1.5.0",
          "state": {
            "_view_name": "HTMLView",
            "style": "IPY_MODEL_e96cbcbe143f41709e69e4404bb5629a",
            "_dom_classes": [],
            "description": "",
            "_model_name": "HTMLModel",
            "placeholder": "​",
            "_view_module": "@jupyter-widgets/controls",
            "_model_module_version": "1.5.0",
            "value": " 170M/170M [00:07&lt;00:00, 31.5MB/s]",
            "_view_count": null,
            "_view_module_version": "1.5.0",
            "description_tooltip": null,
            "_model_module": "@jupyter-widgets/controls",
            "layout": "IPY_MODEL_ffd4f306bc524a1ca758e8ecb227fcdf"
          }
        },
        "927602b9d79b4a27b60f1ee1f46007a1": {
          "model_module": "@jupyter-widgets/controls",
          "model_name": "DescriptionStyleModel",
          "model_module_version": "1.5.0",
          "state": {
            "_view_name": "StyleView",
            "_model_name": "DescriptionStyleModel",
            "description_width": "",
            "_view_module": "@jupyter-widgets/base",
            "_model_module_version": "1.5.0",
            "_view_count": null,
            "_view_module_version": "1.2.0",
            "_model_module": "@jupyter-widgets/controls"
          }
        },
        "0eabd745213f4de88d911d291c36b2de": {
          "model_module": "@jupyter-widgets/base",
          "model_name": "LayoutModel",
          "model_module_version": "1.2.0",
          "state": {
            "_view_name": "LayoutView",
            "grid_template_rows": null,
            "right": null,
            "justify_content": null,
            "_view_module": "@jupyter-widgets/base",
            "overflow": null,
            "_model_module_version": "1.2.0",
            "_view_count": null,
            "flex_flow": null,
            "width": null,
            "min_width": null,
            "border": null,
            "align_items": null,
            "bottom": null,
            "_model_module": "@jupyter-widgets/base",
            "top": null,
            "grid_column": null,
            "overflow_y": null,
            "overflow_x": null,
            "grid_auto_flow": null,
            "grid_area": null,
            "grid_template_columns": null,
            "flex": null,
            "_model_name": "LayoutModel",
            "justify_items": null,
            "grid_row": null,
            "max_height": null,
            "align_content": null,
            "visibility": null,
            "align_self": null,
            "height": null,
            "min_height": null,
            "padding": null,
            "grid_auto_rows": null,
            "grid_gap": null,
            "max_width": null,
            "order": null,
            "_view_module_version": "1.2.0",
            "grid_template_areas": null,
            "object_position": null,
            "object_fit": null,
            "grid_auto_columns": null,
            "margin": null,
            "display": null,
            "left": null
          }
        },
        "ad1a5a5729eb46a88bad5059b2fb3bf3": {
          "model_module": "@jupyter-widgets/controls",
          "model_name": "ProgressStyleModel",
          "model_module_version": "1.5.0",
          "state": {
            "_view_name": "StyleView",
            "_model_name": "ProgressStyleModel",
            "description_width": "",
            "_view_module": "@jupyter-widgets/base",
            "_model_module_version": "1.5.0",
            "_view_count": null,
            "_view_module_version": "1.2.0",
            "bar_color": null,
            "_model_module": "@jupyter-widgets/controls"
          }
        },
        "7466143c54f14c5f90ddf0e9276c2470": {
          "model_module": "@jupyter-widgets/base",
          "model_name": "LayoutModel",
          "model_module_version": "1.2.0",
          "state": {
            "_view_name": "LayoutView",
            "grid_template_rows": null,
            "right": null,
            "justify_content": null,
            "_view_module": "@jupyter-widgets/base",
            "overflow": null,
            "_model_module_version": "1.2.0",
            "_view_count": null,
            "flex_flow": null,
            "width": null,
            "min_width": null,
            "border": null,
            "align_items": null,
            "bottom": null,
            "_model_module": "@jupyter-widgets/base",
            "top": null,
            "grid_column": null,
            "overflow_y": null,
            "overflow_x": null,
            "grid_auto_flow": null,
            "grid_area": null,
            "grid_template_columns": null,
            "flex": null,
            "_model_name": "LayoutModel",
            "justify_items": null,
            "grid_row": null,
            "max_height": null,
            "align_content": null,
            "visibility": null,
            "align_self": null,
            "height": null,
            "min_height": null,
            "padding": null,
            "grid_auto_rows": null,
            "grid_gap": null,
            "max_width": null,
            "order": null,
            "_view_module_version": "1.2.0",
            "grid_template_areas": null,
            "object_position": null,
            "object_fit": null,
            "grid_auto_columns": null,
            "margin": null,
            "display": null,
            "left": null
          }
        },
        "e96cbcbe143f41709e69e4404bb5629a": {
          "model_module": "@jupyter-widgets/controls",
          "model_name": "DescriptionStyleModel",
          "model_module_version": "1.5.0",
          "state": {
            "_view_name": "StyleView",
            "_model_name": "DescriptionStyleModel",
            "description_width": "",
            "_view_module": "@jupyter-widgets/base",
            "_model_module_version": "1.5.0",
            "_view_count": null,
            "_view_module_version": "1.2.0",
            "_model_module": "@jupyter-widgets/controls"
          }
        },
        "ffd4f306bc524a1ca758e8ecb227fcdf": {
          "model_module": "@jupyter-widgets/base",
          "model_name": "LayoutModel",
          "model_module_version": "1.2.0",
          "state": {
            "_view_name": "LayoutView",
            "grid_template_rows": null,
            "right": null,
            "justify_content": null,
            "_view_module": "@jupyter-widgets/base",
            "overflow": null,
            "_model_module_version": "1.2.0",
            "_view_count": null,
            "flex_flow": null,
            "width": null,
            "min_width": null,
            "border": null,
            "align_items": null,
            "bottom": null,
            "_model_module": "@jupyter-widgets/base",
            "top": null,
            "grid_column": null,
            "overflow_y": null,
            "overflow_x": null,
            "grid_auto_flow": null,
            "grid_area": null,
            "grid_template_columns": null,
            "flex": null,
            "_model_name": "LayoutModel",
            "justify_items": null,
            "grid_row": null,
            "max_height": null,
            "align_content": null,
            "visibility": null,
            "align_self": null,
            "height": null,
            "min_height": null,
            "padding": null,
            "grid_auto_rows": null,
            "grid_gap": null,
            "max_width": null,
            "order": null,
            "_view_module_version": "1.2.0",
            "grid_template_areas": null,
            "object_position": null,
            "object_fit": null,
            "grid_auto_columns": null,
            "margin": null,
            "display": null,
            "left": null
          }
        }
      }
    }
  },
  "cells": [
    {
      "cell_type": "markdown",
      "metadata": {
        "id": "view-in-github",
        "colab_type": "text"
      },
      "source": [
        "<a href=\"https://colab.research.google.com/github/taravatp/Panopic-Feature-Pyramid-Network/blob/main/training/train_semantic_segmentation.ipynb\" target=\"_parent\"><img src=\"https://colab.research.google.com/assets/colab-badge.svg\" alt=\"Open In Colab\"/></a>"
      ]
    },
    {
      "cell_type": "markdown",
      "source": [
        "# importing all the required packages and libraries"
      ],
      "metadata": {
        "id": "TVrnVnogLdCi"
      }
    },
    {
      "cell_type": "code",
      "execution_count": null,
      "metadata": {
        "id": "2XCAPYGkKuMh"
      },
      "outputs": [],
      "source": [
        "!pip install import_ipynb "
      ]
    },
    {
      "cell_type": "code",
      "source": [
        "cd /content/drive/MyDrive/panoptic_FPN"
      ],
      "metadata": {
        "id": "B5vswygypxb3"
      },
      "execution_count": null,
      "outputs": []
    },
    {
      "cell_type": "code",
      "source": [
        "import torchvision\n",
        "import torch\n",
        "import torch.nn as nn\n",
        "import torch.nn.functional as F\n",
        "\n",
        "import import_ipynb\n",
        "import time\n",
        "\n",
        "import matplotlib.pyplot as plt\n",
        "import numpy as np\n",
        "from coco_semantic_dataset import coco_semantic_dataset\n",
        "from models.semantic_model import SemanticSegmentationModel"
      ],
      "metadata": {
        "id": "ExJyYeXDLf7-"
      },
      "execution_count": null,
      "outputs": []
    },
    {
      "cell_type": "code",
      "source": [
        "device = 'cuda' if torch.cuda.is_available() else 'cpu'\n",
        "print('device:',device)"
      ],
      "metadata": {
        "id": "dG8AqW7aMJzJ",
        "colab": {
          "base_uri": "https://localhost:8080/"
        },
        "outputId": "d484ae54-c73d-442e-ec7d-535937b193d5"
      },
      "execution_count": null,
      "outputs": [
        {
          "output_type": "stream",
          "name": "stdout",
          "text": [
            "device: cuda\n"
          ]
        }
      ]
    },
    {
      "cell_type": "markdown",
      "source": [
        "#Instantiating the Dataset/Model/Optimizer/HyperParameters"
      ],
      "metadata": {
        "id": "2YpUX7OxSFFa"
      }
    },
    {
      "cell_type": "code",
      "source": [
        "batch_size = 8\n",
        "dataset_train = coco_semantic_dataset(flag='train')\n",
        "dataset_test = coco_semantic_dataset(flag='test')\n",
        "\n",
        "data_loader_train = torch.utils.data.DataLoader(dataset_train,batch_size=batch_size,shuffle=True,num_workers=2)\n",
        "data_loader_test = torch.utils.data.DataLoader(dataset_test,batch_size=batch_size,shuffle=True,num_workers=2) "
      ],
      "metadata": {
        "id": "XqiZRXvJSH1C"
      },
      "execution_count": null,
      "outputs": []
    },
    {
      "cell_type": "code",
      "source": [
        "model = SemanticSegmentationModel(len(dataset_train.category_IDS)).to(device)"
      ],
      "metadata": {
        "id": "9kRTOkkis6HT",
        "colab": {
          "base_uri": "https://localhost:8080/",
          "height": 86,
          "referenced_widgets": [
            "6d06bcec03194d758828a4b97594fae8",
            "4709fdc69c074a6294378bf527e52a63",
            "8a61d6f26af643b0afd723f5f2a1bed7",
            "e4b0b6a1b4bf44b5b425f32a36952cf1",
            "4df9459f70034327b75ca0a5cff3c804",
            "927602b9d79b4a27b60f1ee1f46007a1",
            "0eabd745213f4de88d911d291c36b2de",
            "ad1a5a5729eb46a88bad5059b2fb3bf3",
            "7466143c54f14c5f90ddf0e9276c2470",
            "e96cbcbe143f41709e69e4404bb5629a",
            "ffd4f306bc524a1ca758e8ecb227fcdf"
          ]
        },
        "outputId": "8ae4175e-5edb-4576-a597-10ca45e6715a"
      },
      "execution_count": null,
      "outputs": [
        {
          "output_type": "stream",
          "name": "stderr",
          "text": [
            "Downloading: \"https://download.pytorch.org/models/maskrcnn_resnet50_fpn_coco-bf2d0c1e.pth\" to /root/.cache/torch/hub/checkpoints/maskrcnn_resnet50_fpn_coco-bf2d0c1e.pth\n"
          ]
        },
        {
          "output_type": "display_data",
          "data": {
            "application/vnd.jupyter.widget-view+json": {
              "model_id": "6d06bcec03194d758828a4b97594fae8",
              "version_minor": 0,
              "version_major": 2
            },
            "text/plain": [
              "  0%|          | 0.00/170M [00:00<?, ?B/s]"
            ]
          },
          "metadata": {}
        }
      ]
    },
    {
      "cell_type": "code",
      "source": [
        "learning_rate = 1e-4\n",
        "num_epochs =30\n",
        "#lr 1e-4 az hamoon epoche aval be amalkarde behtari resid ta 1e-3\n",
        "\n",
        "params = [p for p in model.parameters() if p.requires_grad]\n",
        "optimizer = torch.optim.Adam(params, lr=learning_rate, weight_decay=0.0002)\n",
        "loss_function = nn.CrossEntropyLoss()"
      ],
      "metadata": {
        "id": "Yab9yCae1-Tr"
      },
      "execution_count": null,
      "outputs": []
    },
    {
      "cell_type": "code",
      "source": [
        "print(len(dataset_train))"
      ],
      "metadata": {
        "colab": {
          "base_uri": "https://localhost:8080/"
        },
        "id": "pthhjhvfcpQd",
        "outputId": "4c3c11b4-288d-4850-c910-5467b20c3cc9"
      },
      "execution_count": null,
      "outputs": [
        {
          "output_type": "stream",
          "name": "stdout",
          "text": [
            "1500\n"
          ]
        }
      ]
    },
    {
      "cell_type": "markdown",
      "source": [
        "# Training"
      ],
      "metadata": {
        "id": "EST2NuXPChwz"
      }
    },
    {
      "cell_type": "code",
      "source": [
        "number_batches = len(data_loader_train)\n",
        "loss_per_epoch = []\n",
        "for epoch in range(num_epochs):\n",
        "\n",
        "  print('starting epoch number:',epoch)\n",
        "  time_start = time.time()\n",
        "  model.train()\n",
        "  loss_segmentation = 0\n",
        "\n",
        "  for iter,batch in enumerate(data_loader_train):\n",
        "\n",
        "    images = batch[0].to(device)\n",
        "    segmentation_masks = batch[1].to(device).long()\n",
        "\n",
        "    predicted_masks = model(images) #[N,NUM_CLASSES,H,W]    \n",
        "\n",
        "    loss = loss_function(predicted_masks,segmentation_masks)\n",
        "    loss_segmentation += loss.item()\n",
        "\n",
        "    optimizer.zero_grad()\n",
        "    loss.backward()\n",
        "    optimizer.step()\n",
        "\n",
        "    if iter%100 == 0 :\n",
        "      print(f\"epoch:{epoch} *** iter:{iter} *** batach:{iter} *** segmentation loss:{loss}\")\n",
        "  \n",
        "  #lr_scheduler.step()\n",
        "\n",
        "  loss_per_epoch.append(loss_segmentation/len(data_loader_train))\n",
        "  print(f\"end of epoch number {epoch}\")\n",
        "  print(f\"time elapsed: {time.time() - time_start}\")\n",
        "  print(f\"train_loss: {loss_segmentation/len(data_loader_train)}\")\n",
        "  torch.save(model.state_dict(), f\"semantic_model{epoch}_batch_{batch_size}.pth\")\n",
        "\n"
      ],
      "metadata": {
        "id": "xN-enCOOdsch",
        "colab": {
          "base_uri": "https://localhost:8080/"
        },
        "outputId": "fba530d5-e2f7-4b84-9c1b-549860b010b2"
      },
      "execution_count": null,
      "outputs": [
        {
          "output_type": "stream",
          "name": "stdout",
          "text": [
            "starting epoch number: 0\n",
            "epoch:0 *** iter:0 *** batach:0 *** segmentation loss:4.764401912689209\n",
            "epoch:0 *** iter:100 *** batach:100 *** segmentation loss:2.6676666736602783\n",
            "end of epoch number 0\n",
            "time elapsed: 329.51360607147217\n",
            "train_loss: 2.495858284387183\n",
            "starting epoch number: 1\n",
            "epoch:1 *** iter:0 *** batach:0 *** segmentation loss:2.2049081325531006\n",
            "epoch:1 *** iter:100 *** batach:100 *** segmentation loss:2.625758647918701\n",
            "end of epoch number 1\n",
            "time elapsed: 304.2438576221466\n",
            "train_loss: 1.9806828961727467\n",
            "starting epoch number: 2\n",
            "epoch:2 *** iter:0 *** batach:0 *** segmentation loss:1.7764049768447876\n",
            "epoch:2 *** iter:100 *** batach:100 *** segmentation loss:1.7360669374465942\n",
            "end of epoch number 2\n",
            "time elapsed: 303.93553948402405\n",
            "train_loss: 1.7424557535572256\n",
            "starting epoch number: 3\n",
            "epoch:3 *** iter:0 *** batach:0 *** segmentation loss:1.6466827392578125\n",
            "epoch:3 *** iter:100 *** batach:100 *** segmentation loss:1.5396018028259277\n",
            "end of epoch number 3\n",
            "time elapsed: 303.9807982444763\n",
            "train_loss: 1.599623092945586\n",
            "starting epoch number: 4\n",
            "epoch:4 *** iter:0 *** batach:0 *** segmentation loss:2.0960962772369385\n",
            "epoch:4 *** iter:100 *** batach:100 *** segmentation loss:1.5086002349853516\n",
            "end of epoch number 4\n",
            "time elapsed: 304.0158531665802\n",
            "train_loss: 1.4526778148843886\n",
            "starting epoch number: 5\n",
            "epoch:5 *** iter:0 *** batach:0 *** segmentation loss:1.1522643566131592\n",
            "epoch:5 *** iter:100 *** batach:100 *** segmentation loss:1.22697913646698\n",
            "end of epoch number 5\n",
            "time elapsed: 303.95430278778076\n",
            "train_loss: 1.3396917971524787\n",
            "starting epoch number: 6\n",
            "epoch:6 *** iter:0 *** batach:0 *** segmentation loss:1.019567847251892\n",
            "epoch:6 *** iter:100 *** batach:100 *** segmentation loss:1.1447925567626953\n",
            "end of epoch number 6\n",
            "time elapsed: 304.05574345588684\n",
            "train_loss: 1.2738829102921994\n",
            "starting epoch number: 7\n",
            "epoch:7 *** iter:0 *** batach:0 *** segmentation loss:1.0495407581329346\n",
            "epoch:7 *** iter:100 *** batach:100 *** segmentation loss:1.0773284435272217\n",
            "end of epoch number 7\n",
            "time elapsed: 304.01802468299866\n",
            "train_loss: 1.1407176306907167\n",
            "starting epoch number: 8\n",
            "epoch:8 *** iter:0 *** batach:0 *** segmentation loss:0.7869575023651123\n",
            "epoch:8 *** iter:100 *** batach:100 *** segmentation loss:1.5691288709640503\n",
            "end of epoch number 8\n",
            "time elapsed: 304.1846134662628\n",
            "train_loss: 1.0365922495405724\n",
            "starting epoch number: 9\n",
            "epoch:9 *** iter:0 *** batach:0 *** segmentation loss:1.2258226871490479\n",
            "epoch:9 *** iter:100 *** batach:100 *** segmentation loss:0.8935853242874146\n",
            "end of epoch number 9\n",
            "time elapsed: 304.14015078544617\n",
            "train_loss: 0.9223319831046652\n",
            "starting epoch number: 10\n",
            "epoch:10 *** iter:0 *** batach:0 *** segmentation loss:1.026735782623291\n",
            "epoch:10 *** iter:100 *** batach:100 *** segmentation loss:0.8321937918663025\n",
            "end of epoch number 10\n",
            "time elapsed: 304.09169912338257\n",
            "train_loss: 0.8259929794263332\n",
            "starting epoch number: 11\n",
            "epoch:11 *** iter:0 *** batach:0 *** segmentation loss:0.7143033146858215\n",
            "epoch:11 *** iter:100 *** batach:100 *** segmentation loss:0.5642200112342834\n",
            "end of epoch number 11\n",
            "time elapsed: 303.99369072914124\n",
            "train_loss: 0.7476411182829674\n",
            "starting epoch number: 12\n",
            "epoch:12 *** iter:0 *** batach:0 *** segmentation loss:0.7129466533660889\n",
            "epoch:12 *** iter:100 *** batach:100 *** segmentation loss:0.6585222482681274\n",
            "end of epoch number 12\n",
            "time elapsed: 303.9299566745758\n",
            "train_loss: 0.720885526785191\n",
            "starting epoch number: 13\n",
            "epoch:13 *** iter:0 *** batach:0 *** segmentation loss:0.7113875150680542\n",
            "epoch:13 *** iter:100 *** batach:100 *** segmentation loss:0.6462796926498413\n",
            "end of epoch number 13\n",
            "time elapsed: 304.06392526626587\n",
            "train_loss: 0.613979901246568\n",
            "starting epoch number: 14\n",
            "epoch:14 *** iter:0 *** batach:0 *** segmentation loss:0.2945905327796936\n",
            "epoch:14 *** iter:100 *** batach:100 *** segmentation loss:0.5705280303955078\n",
            "end of epoch number 14\n",
            "time elapsed: 304.289115190506\n",
            "train_loss: 0.5080294588461836\n",
            "starting epoch number: 15\n",
            "epoch:15 *** iter:0 *** batach:0 *** segmentation loss:0.345355361700058\n",
            "epoch:15 *** iter:100 *** batach:100 *** segmentation loss:0.5364198088645935\n",
            "end of epoch number 15\n",
            "time elapsed: 304.5657501220703\n",
            "train_loss: 0.42498557142754817\n",
            "starting epoch number: 16\n",
            "epoch:16 *** iter:0 *** batach:0 *** segmentation loss:0.3553045392036438\n",
            "epoch:16 *** iter:100 *** batach:100 *** segmentation loss:0.6128792762756348\n",
            "end of epoch number 16\n",
            "time elapsed: 304.5022144317627\n",
            "train_loss: 0.4846420431549245\n",
            "starting epoch number: 17\n",
            "epoch:17 *** iter:0 *** batach:0 *** segmentation loss:0.35424718260765076\n",
            "epoch:17 *** iter:100 *** batach:100 *** segmentation loss:0.3022148907184601\n",
            "end of epoch number 17\n",
            "time elapsed: 304.47113943099976\n",
            "train_loss: 0.3957096344613014\n",
            "starting epoch number: 18\n",
            "epoch:18 *** iter:0 *** batach:0 *** segmentation loss:0.3343866765499115\n",
            "epoch:18 *** iter:100 *** batach:100 *** segmentation loss:0.27261003851890564\n",
            "end of epoch number 18\n",
            "time elapsed: 304.5603928565979\n",
            "train_loss: 0.3260511612479991\n",
            "starting epoch number: 19\n",
            "epoch:19 *** iter:0 *** batach:0 *** segmentation loss:0.2923678457736969\n",
            "epoch:19 *** iter:100 *** batach:100 *** segmentation loss:0.2158271223306656\n",
            "end of epoch number 19\n",
            "time elapsed: 304.47375082969666\n",
            "train_loss: 0.2961731201949272\n",
            "starting epoch number: 20\n",
            "epoch:20 *** iter:0 *** batach:0 *** segmentation loss:0.24971598386764526\n",
            "epoch:20 *** iter:100 *** batach:100 *** segmentation loss:0.2616751194000244\n",
            "end of epoch number 20\n",
            "time elapsed: 304.40597319602966\n",
            "train_loss: 0.271450599496986\n",
            "starting epoch number: 21\n",
            "epoch:21 *** iter:0 *** batach:0 *** segmentation loss:0.22591158747673035\n",
            "epoch:21 *** iter:100 *** batach:100 *** segmentation loss:0.2656528353691101\n",
            "end of epoch number 21\n",
            "time elapsed: 304.4051434993744\n",
            "train_loss: 0.23334058671397098\n",
            "starting epoch number: 22\n",
            "epoch:22 *** iter:0 *** batach:0 *** segmentation loss:0.20936143398284912\n",
            "epoch:22 *** iter:100 *** batach:100 *** segmentation loss:0.25589731335639954\n",
            "end of epoch number 22\n",
            "time elapsed: 304.2783064842224\n",
            "train_loss: 0.21602141456876664\n",
            "starting epoch number: 23\n",
            "epoch:23 *** iter:0 *** batach:0 *** segmentation loss:0.18249836564064026\n",
            "epoch:23 *** iter:100 *** batach:100 *** segmentation loss:0.2889048457145691\n",
            "end of epoch number 23\n",
            "time elapsed: 304.1958966255188\n",
            "train_loss: 0.39630691334605217\n",
            "starting epoch number: 24\n",
            "epoch:24 *** iter:0 *** batach:0 *** segmentation loss:1.2251663208007812\n",
            "epoch:24 *** iter:100 *** batach:100 *** segmentation loss:0.6877278089523315\n",
            "end of epoch number 24\n",
            "time elapsed: 303.68454003334045\n",
            "train_loss: 0.7912412889777346\n",
            "starting epoch number: 25\n",
            "epoch:25 *** iter:0 *** batach:0 *** segmentation loss:0.4099535048007965\n",
            "epoch:25 *** iter:100 *** batach:100 *** segmentation loss:0.21485023200511932\n",
            "end of epoch number 25\n",
            "time elapsed: 303.86940836906433\n",
            "train_loss: 0.3427101219112569\n",
            "starting epoch number: 26\n",
            "epoch:26 *** iter:0 *** batach:0 *** segmentation loss:0.2063906341791153\n",
            "epoch:26 *** iter:100 *** batach:100 *** segmentation loss:0.2712155282497406\n",
            "end of epoch number 26\n",
            "time elapsed: 303.929025888443\n",
            "train_loss: 0.20400373475190173\n",
            "starting epoch number: 27\n",
            "epoch:27 *** iter:0 *** batach:0 *** segmentation loss:0.231093168258667\n",
            "epoch:27 *** iter:100 *** batach:100 *** segmentation loss:0.16525520384311676\n",
            "end of epoch number 27\n",
            "time elapsed: 304.05993914604187\n",
            "train_loss: 0.16226014387892915\n",
            "starting epoch number: 28\n",
            "epoch:28 *** iter:0 *** batach:0 *** segmentation loss:0.22578725218772888\n",
            "epoch:28 *** iter:100 *** batach:100 *** segmentation loss:0.1441153585910797\n",
            "end of epoch number 28\n",
            "time elapsed: 304.2636544704437\n",
            "train_loss: 0.1466312662084052\n",
            "starting epoch number: 29\n",
            "epoch:29 *** iter:0 *** batach:0 *** segmentation loss:0.19029006361961365\n",
            "epoch:29 *** iter:100 *** batach:100 *** segmentation loss:0.1769663542509079\n",
            "end of epoch number 29\n",
            "time elapsed: 304.21904850006104\n",
            "train_loss: 0.16286618928325938\n",
            "starting epoch number: 30\n",
            "epoch:30 *** iter:0 *** batach:0 *** segmentation loss:0.18099485337734222\n",
            "epoch:30 *** iter:100 *** batach:100 *** segmentation loss:0.10882872343063354\n",
            "end of epoch number 30\n",
            "time elapsed: 304.09922456741333\n",
            "train_loss: 0.1600366050100073\n",
            "starting epoch number: 31\n",
            "epoch:31 *** iter:0 *** batach:0 *** segmentation loss:0.13556233048439026\n",
            "epoch:31 *** iter:100 *** batach:100 *** segmentation loss:0.1681942343711853\n",
            "end of epoch number 31\n",
            "time elapsed: 304.14889335632324\n",
            "train_loss: 0.15506493209048788\n",
            "starting epoch number: 32\n",
            "epoch:32 *** iter:0 *** batach:0 *** segmentation loss:0.10708100348711014\n",
            "epoch:32 *** iter:100 *** batach:100 *** segmentation loss:0.17702403664588928\n",
            "end of epoch number 32\n",
            "time elapsed: 304.2015073299408\n",
            "train_loss: 0.153978464292719\n",
            "starting epoch number: 33\n",
            "epoch:33 *** iter:0 *** batach:0 *** segmentation loss:0.11316712945699692\n",
            "epoch:33 *** iter:100 *** batach:100 *** segmentation loss:0.13683739304542542\n",
            "end of epoch number 33\n",
            "time elapsed: 304.2004864215851\n",
            "train_loss: 0.15258588360503633\n",
            "starting epoch number: 34\n",
            "epoch:34 *** iter:0 *** batach:0 *** segmentation loss:0.17880912125110626\n",
            "epoch:34 *** iter:100 *** batach:100 *** segmentation loss:0.1587352752685547\n",
            "end of epoch number 34\n",
            "time elapsed: 304.2009177207947\n",
            "train_loss: 0.1600910300745609\n",
            "starting epoch number: 35\n",
            "epoch:35 *** iter:0 *** batach:0 *** segmentation loss:0.18917755782604218\n",
            "epoch:35 *** iter:100 *** batach:100 *** segmentation loss:2.0098299980163574\n",
            "end of epoch number 35\n",
            "time elapsed: 303.7038519382477\n",
            "train_loss: 0.8976175529050067\n",
            "starting epoch number: 36\n",
            "epoch:36 *** iter:0 *** batach:0 *** segmentation loss:0.5566557049751282\n",
            "epoch:36 *** iter:100 *** batach:100 *** segmentation loss:0.3097122311592102\n",
            "end of epoch number 36\n",
            "time elapsed: 303.8008198738098\n",
            "train_loss: 0.48161882534623146\n",
            "starting epoch number: 37\n",
            "epoch:37 *** iter:0 *** batach:0 *** segmentation loss:0.38696524500846863\n",
            "epoch:37 *** iter:100 *** batach:100 *** segmentation loss:0.2934066951274872\n",
            "end of epoch number 37\n",
            "time elapsed: 303.7955083847046\n",
            "train_loss: 0.19679014412488074\n",
            "starting epoch number: 38\n",
            "epoch:38 *** iter:0 *** batach:0 *** segmentation loss:0.17273575067520142\n",
            "epoch:38 *** iter:100 *** batach:100 *** segmentation loss:0.14950618147850037\n",
            "end of epoch number 38\n",
            "time elapsed: 304.13233971595764\n",
            "train_loss: 0.13225070834952465\n",
            "starting epoch number: 39\n",
            "epoch:39 *** iter:0 *** batach:0 *** segmentation loss:0.12891344726085663\n",
            "epoch:39 *** iter:100 *** batach:100 *** segmentation loss:0.10561515390872955\n",
            "end of epoch number 39\n",
            "time elapsed: 304.0777244567871\n",
            "train_loss: 0.1138017529502828\n",
            "starting epoch number: 40\n",
            "epoch:40 *** iter:0 *** batach:0 *** segmentation loss:0.08918586373329163\n",
            "epoch:40 *** iter:100 *** batach:100 *** segmentation loss:0.07651462405920029\n"
          ]
        }
      ]
    },
    {
      "cell_type": "code",
      "source": [
        "plt.plot(loss_per_epoch)"
      ],
      "metadata": {
        "id": "lG_pESP6oyHa"
      },
      "execution_count": null,
      "outputs": []
    },
    {
      "cell_type": "markdown",
      "source": [
        "# to do list\n",
        "\n",
        "\n",
        "1.   ye bare dg ba tedad epoche bishtar amoozesh bede -> 40 is excellent\n",
        "2.   learning rate ro yekam bishtar kon ( masalan zarbdar 2) shayad zood tar be natije beresi -> overshoots the minimum\n",
        "3.   ba ziad kardane batch size natijat behtar shod! batch size ro bozorgtar ham kon(16) bebin tasiri dare ya na! --> cuda out of memory:|\n",
        "\n"
      ],
      "metadata": {
        "id": "QrwjEGDN2QFx"
      }
    }
  ]
}