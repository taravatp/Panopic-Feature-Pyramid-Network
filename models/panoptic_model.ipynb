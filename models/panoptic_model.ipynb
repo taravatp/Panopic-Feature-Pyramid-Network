{
  "nbformat": 4,
  "nbformat_minor": 0,
  "metadata": {
    "colab": {
      "name": "panoptic_model.ipynb",
      "provenance": [],
      "collapsed_sections": [],
      "authorship_tag": "ABX9TyO5cayEVd/uw91kdCdvQ4GP",
      "include_colab_link": true
    },
    "kernelspec": {
      "name": "python3",
      "display_name": "Python 3"
    },
    "language_info": {
      "name": "python"
    }
  },
  "cells": [
    {
      "cell_type": "markdown",
      "metadata": {
        "id": "view-in-github",
        "colab_type": "text"
      },
      "source": [
        "<a href=\"https://colab.research.google.com/github/taravatp/Panopic-Feature-Pyramid-Network/blob/main/models/panoptic_model.ipynb\" target=\"_parent\"><img src=\"https://colab.research.google.com/assets/colab-badge.svg\" alt=\"Open In Colab\"/></a>"
      ]
    },
    {
      "cell_type": "code",
      "source": [
        "import torch\n",
        "import torch.nn as nn\n",
        "from torch.nn.modules.activation import ReLU\n",
        "from torch.nn.modules.normalization import GroupNorm\n",
        "\n",
        "import torchvision\n",
        "from torchvision.models.detection.faster_rcnn import FastRCNNPredictor\n",
        "from torchvision.models.detection.mask_rcnn import MaskRCNNPredictor\n",
        "from torchvision.models.feature_extraction import create_feature_extractor\n",
        "\n",
        "import time\n",
        "import numpy as np"
      ],
      "metadata": {
        "id": "L_tO3-H_h237"
      },
      "execution_count": null,
      "outputs": []
    },
    {
      "cell_type": "code",
      "source": [
        "device = 'cuda' if torch.cuda.is_available() else 'cpu'\n",
        "print('device:',device)"
      ],
      "metadata": {
        "colab": {
          "base_uri": "https://localhost:8080/"
        },
        "id": "hGsw20gpiMvI",
        "outputId": "8dc3b135-c36d-4655-9fc8-fcddc858b25c"
      },
      "execution_count": null,
      "outputs": [
        {
          "output_type": "stream",
          "name": "stdout",
          "text": [
            "device: cpu\n"
          ]
        }
      ]
    },
    {
      "cell_type": "code",
      "source": [
        "class PanopticSegmentationModel(nn.Module):\n",
        "  def __init__(self,num_things_classes,num_stuff_classes,flag='train'):\n",
        "\n",
        "    super(PanopticSegmentationModel,self).__init__()\n",
        "    self.num_things_classes = num_things_classes\n",
        "    self.num_stuff_classes = num_stuff_classes\n",
        "    self.instance_model = self.get_model_instance_segmentation()\n",
        "    self.flag = flag\n",
        "\n",
        "    self.upsample1 =  nn.Sequential(\n",
        "        nn.Conv2d(256,128,kernel_size=3,stride=1,padding=1),\n",
        "        nn.GroupNorm(128,128),\n",
        "        nn.ReLU(128),\n",
        "        nn.Upsample(scale_factor=2, mode='bilinear', align_corners=False)\n",
        "    )\n",
        "\n",
        "    self.upsample2 =  nn.Sequential(\n",
        "      nn.Conv2d(128,128,kernel_size=3,stride=1,padding=1),\n",
        "      nn.GroupNorm(128,128),\n",
        "      nn.ReLU(128),\n",
        "      nn.Upsample(scale_factor=2, mode='bilinear', align_corners=False)\n",
        "    )\n",
        "\n",
        "    self.conv1 = nn.Conv2d(256,128,kernel_size=3,stride=1,padding=1)\n",
        "\n",
        "    self.last_layer = nn.Sequential(\n",
        "        nn.Conv2d(128,self.num_stuff_classes,kernel_size=1,device=device),\n",
        "        nn.Upsample(scale_factor=4, mode='bilinear', align_corners=False)\n",
        "    )\n",
        "    \n",
        "  def get_model_instance_segmentation(self):\n",
        "    model = torchvision.models.detection.maskrcnn_resnet50_fpn(pretrained=True)\n",
        "    in_features = model.roi_heads.box_predictor.cls_score.in_features\n",
        "    model.roi_heads.box_predictor = FastRCNNPredictor(in_features,self.num_things_classes)\n",
        "    in_features_mask =  model.roi_heads.mask_predictor.conv5_mask.in_channels\n",
        "    hidden_layer = 256\n",
        "    model.roi_heads.mask_predictor = MaskRCNNPredictor(in_features_mask,hidden_layer,self.num_things_classes)\n",
        "    return model\n",
        "\n",
        "  def get_FPN_levels(self,model,x):\n",
        "    backbone = model.backbone\n",
        "    return_nodes = ['fpn.layer_blocks.0','fpn.layer_blocks.1','fpn.layer_blocks.2','fpn.layer_blocks.3']\n",
        "    feature_extractor = create_feature_extractor(backbone,return_nodes)\n",
        "    with torch.no_grad():\n",
        "      feature_pyramid_levels = feature_extractor(x)\n",
        "\n",
        "    p3 = feature_pyramid_levels['fpn.layer_blocks.3']\n",
        "    p2 = feature_pyramid_levels['fpn.layer_blocks.2']\n",
        "    p1 = feature_pyramid_levels['fpn.layer_blocks.1']\n",
        "    p0 = feature_pyramid_levels['fpn.layer_blocks.0']\n",
        "    return p3,p2,p1,p0\n",
        "\n",
        "  def forward(self,x,targets):\n",
        "    \n",
        "    p3,p2,p1,p0 = self.get_FPN_levels(self.instance_model,x)\n",
        "\n",
        "    #running the instance segmentation model\n",
        "    if self.flag == 'train':\n",
        "      self.instance_model.train()\n",
        "      instance_output = self.instance_model(x,targets) #produces loss values of instance segmentation layers!\n",
        "    else: #validation\n",
        "      self.instance_model.eval()\n",
        "      instance_output = self.instance_model(x) #predictions\n",
        "    \n",
        "    #running the semantic segmentation branch\n",
        "    p3 = self.upsample1(p3)\n",
        "    p3 = self.upsample2(p3)\n",
        "    p3 = self.upsample2(p3)\n",
        "\n",
        "    p2 = self.upsample1(p2)\n",
        "    p2 = self.upsample2(p2)\n",
        "\n",
        "    p1 = self.upsample1(p1)\n",
        "\n",
        "    p0 = self.conv1(p0)\n",
        "    \n",
        "    p0 = p0 + p1 + p2 + p3 \n",
        "    \n",
        "    #producing the final result\n",
        "    p0 = self.last_layer(p0)  #semantic segmentation prediction\n",
        "    #print(self.instance_model)\n",
        "\n",
        "    return instance_output,p0"
      ],
      "metadata": {
        "id": "TEbCK9OAiQjq"
      },
      "execution_count": null,
      "outputs": []
    }
  ]
}