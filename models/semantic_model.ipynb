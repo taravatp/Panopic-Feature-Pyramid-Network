{
  "nbformat": 4,
  "nbformat_minor": 0,
  "metadata": {
    "colab": {
      "name": "semantic_model.ipynb",
      "provenance": [],
      "collapsed_sections": [],
      "authorship_tag": "ABX9TyOVAVa2GoIKxm23zEgx8giR",
      "include_colab_link": true
    },
    "kernelspec": {
      "name": "python3",
      "display_name": "Python 3"
    },
    "language_info": {
      "name": "python"
    }
  },
  "cells": [
    {
      "cell_type": "markdown",
      "metadata": {
        "id": "view-in-github",
        "colab_type": "text"
      },
      "source": [
        "<a href=\"https://colab.research.google.com/github/taravatp/Panopic-Feature-Pyramid-Network/blob/main/models/semantic_model.ipynb\" target=\"_parent\"><img src=\"https://colab.research.google.com/assets/colab-badge.svg\" alt=\"Open In Colab\"/></a>"
      ]
    },
    {
      "cell_type": "code",
      "source": [
        "import numpy as np\n",
        "import time\n",
        "\n",
        "import torch\n",
        "import torch.nn as nn\n",
        "from torch.nn.modules.activation import ReLU\n",
        "from torch.nn.modules.normalization import GroupNorm\n",
        "import torchvision\n",
        "\n",
        "# from torchvision.models.feature_extraction import create_feature_extractor"
      ],
      "metadata": {
        "id": "D0dD376ZRs7Q"
      },
      "execution_count": null,
      "outputs": []
    },
    {
      "cell_type": "code",
      "source": [
        "device = 'cuda' if torch.cuda.is_available() else 'cpu'\n",
        "print('device:',device)"
      ],
      "metadata": {
        "id": "hZJuQ39hbakT"
      },
      "execution_count": null,
      "outputs": []
    },
    {
      "cell_type": "code",
      "execution_count": null,
      "metadata": {
        "id": "uy4xAGt1Reta"
      },
      "outputs": [],
      "source": [
        "class SemanticSegmentationModel(nn.Module):\n",
        "  def __init__(self,num_classes):\n",
        "\n",
        "    super(SemanticSegmentationModel,self).__init__()\n",
        "    \n",
        "    self.num_classes = num_classes\n",
        "    self.backbone = torchvision.models.detection.maskrcnn_resnet50_fpn(pretrained=True).backbone.to(device)\n",
        "\n",
        "    #return_nodes = ['fpn.layer_blocks.0','fpn.layer_blocks.1','fpn.layer_blocks.2','fpn.layer_blocks.3']\n",
        "    #self.feature_extractor = create_feature_extractor(self.backbone,return_nodes)\n",
        "\n",
        "    self.upsample1 =  nn.Sequential(\n",
        "        nn.Conv2d(256,128,kernel_size=3,stride=1,padding=1), #does not change the shape\n",
        "        nn.GroupNorm(128,128),\n",
        "        nn.ReLU(128),\n",
        "        nn.Upsample(scale_factor=2, mode='bilinear', align_corners=False)\n",
        "    )\n",
        "\n",
        "    self.upsample2 =  nn.Sequential(\n",
        "      nn.Conv2d(128,128,kernel_size=3,stride=1,padding=1),\n",
        "      nn.GroupNorm(128,128),\n",
        "      nn.ReLU(128),\n",
        "      nn.Upsample(scale_factor=2, mode='bilinear', align_corners=False)\n",
        "    )\n",
        "\n",
        "    self.conv1 = nn.Conv2d(256,128,kernel_size=3,stride=1,padding=1)\n",
        "\n",
        "    self.last_layer = nn.Sequential(\n",
        "        nn.Conv2d(128,self.num_classes,kernel_size=1,device=device),\n",
        "        nn.Upsample(scale_factor=4, mode='bilinear', align_corners=False)\n",
        "    )\n",
        "  \n",
        "  def forward(self,x):\n",
        "\n",
        "    x = self.backbone(x) #output of backbone - it is a dictionary\n",
        "    \n",
        "    #fetchin pyramid levels\n",
        "    p0 = x['0'] #(batchsize- 256 - 1/4H - 1/4W)\n",
        "    p1 = x['1'] #(batchsize- 256 - 1/8H - 1/8W)\n",
        "    p2 = x['2'] #(batchsize- 256 - 1/16H - 1/16W)\n",
        "    p3 = x['3'] ##(batchsize- 256 - 1/32H - 1/32W)\n",
        "\n",
        "    p3 = self.upsample1(p3)\n",
        "    p3 = self.upsample2(p3)\n",
        "    p3 = self.upsample2(p3)\n",
        "\n",
        "    p2 = self.upsample1(p2)\n",
        "    p2 = self.upsample2(p2)\n",
        "\n",
        "    p1 = self.upsample1(p1)\n",
        "\n",
        "    p0 = self.conv1(p0)\n",
        "\n",
        "    p0 = p0 + p1 + p2 + p3 \n",
        "    \n",
        "    #producing the final result\n",
        "    p0 = self.last_layer(p0) \n",
        "\n",
        "    return p0"
      ]
    },
    {
      "cell_type": "code",
      "source": [
        "if __name__ == '__main__':\n",
        "  \n",
        "  #get output from the model\n",
        "  test = SemanticSegmentationModel(5).to(device)\n",
        "  test_input = torch.ones((2, 3, 640, 480)).to(device)\n",
        "  output = test(test_input)\n",
        "  print(output.shape)"
      ],
      "metadata": {
        "colab": {
          "base_uri": "https://localhost:8080/"
        },
        "id": "TtCEYdIaRx41",
        "outputId": "bb76a2d4-29a7-464c-fcaf-bebd6a3570f3"
      },
      "execution_count": null,
      "outputs": [
        {
          "output_type": "stream",
          "name": "stdout",
          "text": [
            "torch.Size([2, 5, 640, 480])\n"
          ]
        }
      ]
    }
  ]
}